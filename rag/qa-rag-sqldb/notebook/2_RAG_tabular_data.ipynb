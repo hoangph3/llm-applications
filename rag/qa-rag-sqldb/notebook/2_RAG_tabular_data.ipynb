{
 "cells": [
  {
   "cell_type": "code",
   "execution_count": 1,
   "metadata": {},
   "outputs": [],
   "source": [
    "import os\n",
    "from pyprojroot import here\n",
    "import pandas as pd\n",
    "import chromadb\n",
    "from openai import OpenAI"
   ]
  },
  {
   "cell_type": "code",
   "execution_count": 2,
   "metadata": {},
   "outputs": [],
   "source": [
    "chroma_client = chromadb.PersistentClient(path=str(here(\"data/chroma\")))\n",
    "openai_client = OpenAI()"
   ]
  },
  {
   "cell_type": "markdown",
   "metadata": {},
   "source": [
    "**Create a collection for data injection**\n",
    "\n",
    "Throws an error if the table already exists"
   ]
  },
  {
   "cell_type": "code",
   "execution_count": 3,
   "metadata": {},
   "outputs": [],
   "source": [
    "collection = chroma_client.get_or_create_collection(name=\"titanic\")"
   ]
  },
  {
   "cell_type": "code",
   "execution_count": 4,
   "metadata": {},
   "outputs": [],
   "source": [
    "file_dir = here(\"data/csv/titanic.csv\")\n",
    "df = pd.read_csv(file_dir, nrows=100)"
   ]
  },
  {
   "cell_type": "code",
   "execution_count": 5,
   "metadata": {},
   "outputs": [
    {
     "data": {
      "text/html": [
       "<div>\n",
       "<style scoped>\n",
       "    .dataframe tbody tr th:only-of-type {\n",
       "        vertical-align: middle;\n",
       "    }\n",
       "\n",
       "    .dataframe tbody tr th {\n",
       "        vertical-align: top;\n",
       "    }\n",
       "\n",
       "    .dataframe thead th {\n",
       "        text-align: right;\n",
       "    }\n",
       "</style>\n",
       "<table border=\"1\" class=\"dataframe\">\n",
       "  <thead>\n",
       "    <tr style=\"text-align: right;\">\n",
       "      <th></th>\n",
       "      <th>Survived</th>\n",
       "      <th>Pclass</th>\n",
       "      <th>Name</th>\n",
       "      <th>Sex</th>\n",
       "      <th>Age</th>\n",
       "      <th>Siblings/Spouses Aboard</th>\n",
       "      <th>Parents/Children Aboard</th>\n",
       "      <th>Fare</th>\n",
       "    </tr>\n",
       "  </thead>\n",
       "  <tbody>\n",
       "    <tr>\n",
       "      <th>0</th>\n",
       "      <td>0</td>\n",
       "      <td>3</td>\n",
       "      <td>Mr. Owen Harris Braund</td>\n",
       "      <td>male</td>\n",
       "      <td>22.0</td>\n",
       "      <td>1</td>\n",
       "      <td>0</td>\n",
       "      <td>7.2500</td>\n",
       "    </tr>\n",
       "    <tr>\n",
       "      <th>1</th>\n",
       "      <td>1</td>\n",
       "      <td>1</td>\n",
       "      <td>Mrs. John Bradley (Florence Briggs Thayer) Cum...</td>\n",
       "      <td>female</td>\n",
       "      <td>38.0</td>\n",
       "      <td>1</td>\n",
       "      <td>0</td>\n",
       "      <td>71.2833</td>\n",
       "    </tr>\n",
       "    <tr>\n",
       "      <th>2</th>\n",
       "      <td>1</td>\n",
       "      <td>3</td>\n",
       "      <td>Miss. Laina Heikkinen</td>\n",
       "      <td>female</td>\n",
       "      <td>26.0</td>\n",
       "      <td>0</td>\n",
       "      <td>0</td>\n",
       "      <td>7.9250</td>\n",
       "    </tr>\n",
       "    <tr>\n",
       "      <th>3</th>\n",
       "      <td>1</td>\n",
       "      <td>1</td>\n",
       "      <td>Mrs. Jacques Heath (Lily May Peel) Futrelle</td>\n",
       "      <td>female</td>\n",
       "      <td>35.0</td>\n",
       "      <td>1</td>\n",
       "      <td>0</td>\n",
       "      <td>53.1000</td>\n",
       "    </tr>\n",
       "    <tr>\n",
       "      <th>4</th>\n",
       "      <td>0</td>\n",
       "      <td>3</td>\n",
       "      <td>Mr. William Henry Allen</td>\n",
       "      <td>male</td>\n",
       "      <td>35.0</td>\n",
       "      <td>0</td>\n",
       "      <td>0</td>\n",
       "      <td>8.0500</td>\n",
       "    </tr>\n",
       "    <tr>\n",
       "      <th>...</th>\n",
       "      <td>...</td>\n",
       "      <td>...</td>\n",
       "      <td>...</td>\n",
       "      <td>...</td>\n",
       "      <td>...</td>\n",
       "      <td>...</td>\n",
       "      <td>...</td>\n",
       "      <td>...</td>\n",
       "    </tr>\n",
       "    <tr>\n",
       "      <th>95</th>\n",
       "      <td>0</td>\n",
       "      <td>1</td>\n",
       "      <td>Mr. George B Goldschmidt</td>\n",
       "      <td>male</td>\n",
       "      <td>71.0</td>\n",
       "      <td>0</td>\n",
       "      <td>0</td>\n",
       "      <td>34.6542</td>\n",
       "    </tr>\n",
       "    <tr>\n",
       "      <th>96</th>\n",
       "      <td>1</td>\n",
       "      <td>1</td>\n",
       "      <td>Mr. William Bertram Greenfield</td>\n",
       "      <td>male</td>\n",
       "      <td>23.0</td>\n",
       "      <td>0</td>\n",
       "      <td>1</td>\n",
       "      <td>63.3583</td>\n",
       "    </tr>\n",
       "    <tr>\n",
       "      <th>97</th>\n",
       "      <td>1</td>\n",
       "      <td>2</td>\n",
       "      <td>Mrs. John T (Ada Julia Bone) Doling</td>\n",
       "      <td>female</td>\n",
       "      <td>34.0</td>\n",
       "      <td>0</td>\n",
       "      <td>1</td>\n",
       "      <td>23.0000</td>\n",
       "    </tr>\n",
       "    <tr>\n",
       "      <th>98</th>\n",
       "      <td>0</td>\n",
       "      <td>2</td>\n",
       "      <td>Mr. Sinai Kantor</td>\n",
       "      <td>male</td>\n",
       "      <td>34.0</td>\n",
       "      <td>1</td>\n",
       "      <td>0</td>\n",
       "      <td>26.0000</td>\n",
       "    </tr>\n",
       "    <tr>\n",
       "      <th>99</th>\n",
       "      <td>0</td>\n",
       "      <td>3</td>\n",
       "      <td>Miss. Matilda Petranec</td>\n",
       "      <td>female</td>\n",
       "      <td>28.0</td>\n",
       "      <td>0</td>\n",
       "      <td>0</td>\n",
       "      <td>7.8958</td>\n",
       "    </tr>\n",
       "  </tbody>\n",
       "</table>\n",
       "<p>100 rows × 8 columns</p>\n",
       "</div>"
      ],
      "text/plain": [
       "    Survived  Pclass                                               Name  \\\n",
       "0          0       3                             Mr. Owen Harris Braund   \n",
       "1          1       1  Mrs. John Bradley (Florence Briggs Thayer) Cum...   \n",
       "2          1       3                              Miss. Laina Heikkinen   \n",
       "3          1       1        Mrs. Jacques Heath (Lily May Peel) Futrelle   \n",
       "4          0       3                            Mr. William Henry Allen   \n",
       "..       ...     ...                                                ...   \n",
       "95         0       1                           Mr. George B Goldschmidt   \n",
       "96         1       1                     Mr. William Bertram Greenfield   \n",
       "97         1       2                Mrs. John T (Ada Julia Bone) Doling   \n",
       "98         0       2                                   Mr. Sinai Kantor   \n",
       "99         0       3                             Miss. Matilda Petranec   \n",
       "\n",
       "       Sex   Age  Siblings/Spouses Aboard  Parents/Children Aboard     Fare  \n",
       "0     male  22.0                        1                        0   7.2500  \n",
       "1   female  38.0                        1                        0  71.2833  \n",
       "2   female  26.0                        0                        0   7.9250  \n",
       "3   female  35.0                        1                        0  53.1000  \n",
       "4     male  35.0                        0                        0   8.0500  \n",
       "..     ...   ...                      ...                      ...      ...  \n",
       "95    male  71.0                        0                        0  34.6542  \n",
       "96    male  23.0                        0                        1  63.3583  \n",
       "97  female  34.0                        0                        1  23.0000  \n",
       "98    male  34.0                        1                        0  26.0000  \n",
       "99  female  28.0                        0                        0   7.8958  \n",
       "\n",
       "[100 rows x 8 columns]"
      ]
     },
     "execution_count": 5,
     "metadata": {},
     "output_type": "execute_result"
    }
   ],
   "source": [
    "df"
   ]
  },
  {
   "cell_type": "markdown",
   "metadata": {},
   "source": [
    "NOTE: Process in chunks if dataset is big."
   ]
  },
  {
   "cell_type": "code",
   "execution_count": 6,
   "metadata": {},
   "outputs": [],
   "source": [
    "docs = []\n",
    "metadatas = []\n",
    "ids = []\n",
    "embeddings = []\n",
    "for index, row in df.iterrows():\n",
    "    output_str = \"\"\n",
    "    # Treat each row as a separate chunk\n",
    "    for col in df.columns:\n",
    "        output_str += f\"{col}: {row[col]},\\n\"\n",
    "    response = openai_client.embeddings.create(\n",
    "        input = output_str,\n",
    "        model= \"text-embedding-ada-002\"\n",
    "    )\n",
    "    embeddings.append(response.data[0].embedding)\n",
    "    docs.append(output_str)\n",
    "    metadatas.append({\"source\": \"titanic\"})\n",
    "    ids.append(f\"id{index}\")"
   ]
  },
  {
   "cell_type": "code",
   "execution_count": 9,
   "metadata": {},
   "outputs": [
    {
     "data": {
      "text/plain": [
       "['Survived: 0,\\nPclass: 3,\\nName: Mr. Owen Harris Braund,\\nSex: male,\\nAge: 22.0,\\nSiblings/Spouses Aboard: 1,\\nParents/Children Aboard: 0,\\nFare: 7.25,\\n',\n",
       " 'Survived: 1,\\nPclass: 1,\\nName: Mrs. John Bradley (Florence Briggs Thayer) Cumings,\\nSex: female,\\nAge: 38.0,\\nSiblings/Spouses Aboard: 1,\\nParents/Children Aboard: 0,\\nFare: 71.2833,\\n',\n",
       " 'Survived: 1,\\nPclass: 3,\\nName: Miss. Laina Heikkinen,\\nSex: female,\\nAge: 26.0,\\nSiblings/Spouses Aboard: 0,\\nParents/Children Aboard: 0,\\nFare: 7.925,\\n',\n",
       " 'Survived: 1,\\nPclass: 1,\\nName: Mrs. Jacques Heath (Lily May Peel) Futrelle,\\nSex: female,\\nAge: 35.0,\\nSiblings/Spouses Aboard: 1,\\nParents/Children Aboard: 0,\\nFare: 53.1,\\n',\n",
       " 'Survived: 0,\\nPclass: 3,\\nName: Mr. William Henry Allen,\\nSex: male,\\nAge: 35.0,\\nSiblings/Spouses Aboard: 0,\\nParents/Children Aboard: 0,\\nFare: 8.05,\\n',\n",
       " 'Survived: 0,\\nPclass: 3,\\nName: Mr. James Moran,\\nSex: male,\\nAge: 27.0,\\nSiblings/Spouses Aboard: 0,\\nParents/Children Aboard: 0,\\nFare: 8.4583,\\n',\n",
       " 'Survived: 0,\\nPclass: 1,\\nName: Mr. Timothy J McCarthy,\\nSex: male,\\nAge: 54.0,\\nSiblings/Spouses Aboard: 0,\\nParents/Children Aboard: 0,\\nFare: 51.8625,\\n',\n",
       " 'Survived: 0,\\nPclass: 3,\\nName: Master. Gosta Leonard Palsson,\\nSex: male,\\nAge: 2.0,\\nSiblings/Spouses Aboard: 3,\\nParents/Children Aboard: 1,\\nFare: 21.075,\\n',\n",
       " 'Survived: 1,\\nPclass: 3,\\nName: Mrs. Oscar W (Elisabeth Vilhelmina Berg) Johnson,\\nSex: female,\\nAge: 27.0,\\nSiblings/Spouses Aboard: 0,\\nParents/Children Aboard: 2,\\nFare: 11.1333,\\n',\n",
       " 'Survived: 1,\\nPclass: 2,\\nName: Mrs. Nicholas (Adele Achem) Nasser,\\nSex: female,\\nAge: 14.0,\\nSiblings/Spouses Aboard: 1,\\nParents/Children Aboard: 0,\\nFare: 30.0708,\\n',\n",
       " 'Survived: 1,\\nPclass: 3,\\nName: Miss. Marguerite Rut Sandstrom,\\nSex: female,\\nAge: 4.0,\\nSiblings/Spouses Aboard: 1,\\nParents/Children Aboard: 1,\\nFare: 16.7,\\n',\n",
       " 'Survived: 1,\\nPclass: 1,\\nName: Miss. Elizabeth Bonnell,\\nSex: female,\\nAge: 58.0,\\nSiblings/Spouses Aboard: 0,\\nParents/Children Aboard: 0,\\nFare: 26.55,\\n',\n",
       " 'Survived: 0,\\nPclass: 3,\\nName: Mr. William Henry Saundercock,\\nSex: male,\\nAge: 20.0,\\nSiblings/Spouses Aboard: 0,\\nParents/Children Aboard: 0,\\nFare: 8.05,\\n',\n",
       " 'Survived: 0,\\nPclass: 3,\\nName: Mr. Anders Johan Andersson,\\nSex: male,\\nAge: 39.0,\\nSiblings/Spouses Aboard: 1,\\nParents/Children Aboard: 5,\\nFare: 31.275,\\n',\n",
       " 'Survived: 0,\\nPclass: 3,\\nName: Miss. Hulda Amanda Adolfina Vestrom,\\nSex: female,\\nAge: 14.0,\\nSiblings/Spouses Aboard: 0,\\nParents/Children Aboard: 0,\\nFare: 7.8542,\\n',\n",
       " 'Survived: 1,\\nPclass: 2,\\nName: Mrs. (Mary D Kingcome) Hewlett,\\nSex: female,\\nAge: 55.0,\\nSiblings/Spouses Aboard: 0,\\nParents/Children Aboard: 0,\\nFare: 16.0,\\n',\n",
       " 'Survived: 0,\\nPclass: 3,\\nName: Master. Eugene Rice,\\nSex: male,\\nAge: 2.0,\\nSiblings/Spouses Aboard: 4,\\nParents/Children Aboard: 1,\\nFare: 29.125,\\n',\n",
       " 'Survived: 1,\\nPclass: 2,\\nName: Mr. Charles Eugene Williams,\\nSex: male,\\nAge: 23.0,\\nSiblings/Spouses Aboard: 0,\\nParents/Children Aboard: 0,\\nFare: 13.0,\\n',\n",
       " 'Survived: 0,\\nPclass: 3,\\nName: Mrs. Julius (Emelia Maria Vandemoortele) Vander Planke,\\nSex: female,\\nAge: 31.0,\\nSiblings/Spouses Aboard: 1,\\nParents/Children Aboard: 0,\\nFare: 18.0,\\n',\n",
       " 'Survived: 1,\\nPclass: 3,\\nName: Mrs. Fatima Masselmani,\\nSex: female,\\nAge: 22.0,\\nSiblings/Spouses Aboard: 0,\\nParents/Children Aboard: 0,\\nFare: 7.225,\\n',\n",
       " 'Survived: 0,\\nPclass: 2,\\nName: Mr. Joseph J Fynney,\\nSex: male,\\nAge: 35.0,\\nSiblings/Spouses Aboard: 0,\\nParents/Children Aboard: 0,\\nFare: 26.0,\\n',\n",
       " 'Survived: 1,\\nPclass: 2,\\nName: Mr. Lawrence Beesley,\\nSex: male,\\nAge: 34.0,\\nSiblings/Spouses Aboard: 0,\\nParents/Children Aboard: 0,\\nFare: 13.0,\\n',\n",
       " 'Survived: 1,\\nPclass: 3,\\nName: Miss. Anna McGowan,\\nSex: female,\\nAge: 15.0,\\nSiblings/Spouses Aboard: 0,\\nParents/Children Aboard: 0,\\nFare: 8.0292,\\n',\n",
       " 'Survived: 1,\\nPclass: 1,\\nName: Mr. William Thompson Sloper,\\nSex: male,\\nAge: 28.0,\\nSiblings/Spouses Aboard: 0,\\nParents/Children Aboard: 0,\\nFare: 35.5,\\n',\n",
       " 'Survived: 0,\\nPclass: 3,\\nName: Miss. Torborg Danira Palsson,\\nSex: female,\\nAge: 8.0,\\nSiblings/Spouses Aboard: 3,\\nParents/Children Aboard: 1,\\nFare: 21.075,\\n',\n",
       " 'Survived: 1,\\nPclass: 3,\\nName: Mrs. Carl Oscar (Selma Augusta Emilia Johansson) Asplund,\\nSex: female,\\nAge: 38.0,\\nSiblings/Spouses Aboard: 1,\\nParents/Children Aboard: 5,\\nFare: 31.3875,\\n',\n",
       " 'Survived: 0,\\nPclass: 3,\\nName: Mr. Farred Chehab Emir,\\nSex: male,\\nAge: 26.0,\\nSiblings/Spouses Aboard: 0,\\nParents/Children Aboard: 0,\\nFare: 7.225,\\n',\n",
       " 'Survived: 0,\\nPclass: 1,\\nName: Mr. Charles Alexander Fortune,\\nSex: male,\\nAge: 19.0,\\nSiblings/Spouses Aboard: 3,\\nParents/Children Aboard: 2,\\nFare: 263.0,\\n',\n",
       " \"Survived: 1,\\nPclass: 3,\\nName: Miss. Ellen O'Dwyer,\\nSex: female,\\nAge: 24.0,\\nSiblings/Spouses Aboard: 0,\\nParents/Children Aboard: 0,\\nFare: 7.8792,\\n\",\n",
       " 'Survived: 0,\\nPclass: 3,\\nName: Mr. Lalio Todoroff,\\nSex: male,\\nAge: 23.0,\\nSiblings/Spouses Aboard: 0,\\nParents/Children Aboard: 0,\\nFare: 7.8958,\\n',\n",
       " 'Survived: 0,\\nPclass: 1,\\nName: Don. Manuel E Uruchurtu,\\nSex: male,\\nAge: 40.0,\\nSiblings/Spouses Aboard: 0,\\nParents/Children Aboard: 0,\\nFare: 27.7208,\\n',\n",
       " 'Survived: 1,\\nPclass: 1,\\nName: Mrs. William Augustus (Marie Eugenie) Spencer,\\nSex: female,\\nAge: 48.0,\\nSiblings/Spouses Aboard: 1,\\nParents/Children Aboard: 0,\\nFare: 146.5208,\\n',\n",
       " 'Survived: 1,\\nPclass: 3,\\nName: Miss. Mary Agatha Glynn,\\nSex: female,\\nAge: 18.0,\\nSiblings/Spouses Aboard: 0,\\nParents/Children Aboard: 0,\\nFare: 7.75,\\n',\n",
       " 'Survived: 0,\\nPclass: 2,\\nName: Mr. Edward H Wheadon,\\nSex: male,\\nAge: 66.0,\\nSiblings/Spouses Aboard: 0,\\nParents/Children Aboard: 0,\\nFare: 10.5,\\n',\n",
       " 'Survived: 0,\\nPclass: 1,\\nName: Mr. Edgar Joseph Meyer,\\nSex: male,\\nAge: 28.0,\\nSiblings/Spouses Aboard: 1,\\nParents/Children Aboard: 0,\\nFare: 82.1708,\\n',\n",
       " 'Survived: 0,\\nPclass: 1,\\nName: Mr. Alexander Oskar Holverson,\\nSex: male,\\nAge: 42.0,\\nSiblings/Spouses Aboard: 1,\\nParents/Children Aboard: 0,\\nFare: 52.0,\\n',\n",
       " 'Survived: 1,\\nPclass: 3,\\nName: Mr. Hanna Mamee,\\nSex: male,\\nAge: 18.0,\\nSiblings/Spouses Aboard: 0,\\nParents/Children Aboard: 0,\\nFare: 7.2292,\\n',\n",
       " 'Survived: 0,\\nPclass: 3,\\nName: Mr. Ernest Charles Cann,\\nSex: male,\\nAge: 21.0,\\nSiblings/Spouses Aboard: 0,\\nParents/Children Aboard: 0,\\nFare: 8.05,\\n',\n",
       " 'Survived: 0,\\nPclass: 3,\\nName: Miss. Augusta Maria Vander Planke,\\nSex: female,\\nAge: 18.0,\\nSiblings/Spouses Aboard: 2,\\nParents/Children Aboard: 0,\\nFare: 18.0,\\n',\n",
       " 'Survived: 1,\\nPclass: 3,\\nName: Miss. Jamila Nicola-Yarred,\\nSex: female,\\nAge: 14.0,\\nSiblings/Spouses Aboard: 1,\\nParents/Children Aboard: 0,\\nFare: 11.2417,\\n',\n",
       " 'Survived: 0,\\nPclass: 3,\\nName: Mrs. Johan (Johanna Persdotter Larsson) Ahlin,\\nSex: female,\\nAge: 40.0,\\nSiblings/Spouses Aboard: 1,\\nParents/Children Aboard: 0,\\nFare: 9.475,\\n',\n",
       " 'Survived: 0,\\nPclass: 2,\\nName: Mrs. William John Robert (Dorothy Ann Wonnacott) Turpin,\\nSex: female,\\nAge: 27.0,\\nSiblings/Spouses Aboard: 1,\\nParents/Children Aboard: 0,\\nFare: 21.0,\\n',\n",
       " 'Survived: 1,\\nPclass: 2,\\nName: Miss. Simonne Marie Anne Andree Laroche,\\nSex: female,\\nAge: 3.0,\\nSiblings/Spouses Aboard: 1,\\nParents/Children Aboard: 2,\\nFare: 41.5792,\\n',\n",
       " 'Survived: 1,\\nPclass: 3,\\nName: Miss. Margaret Delia Devaney,\\nSex: female,\\nAge: 19.0,\\nSiblings/Spouses Aboard: 0,\\nParents/Children Aboard: 0,\\nFare: 7.8792,\\n',\n",
       " 'Survived: 0,\\nPclass: 3,\\nName: Mr. William John Rogers,\\nSex: male,\\nAge: 30.0,\\nSiblings/Spouses Aboard: 0,\\nParents/Children Aboard: 0,\\nFare: 8.05,\\n',\n",
       " 'Survived: 0,\\nPclass: 3,\\nName: Mr. Denis Lennon,\\nSex: male,\\nAge: 20.0,\\nSiblings/Spouses Aboard: 1,\\nParents/Children Aboard: 0,\\nFare: 15.5,\\n',\n",
       " \"Survived: 1,\\nPclass: 3,\\nName: Miss. Bridget O'Driscoll,\\nSex: female,\\nAge: 27.0,\\nSiblings/Spouses Aboard: 0,\\nParents/Children Aboard: 0,\\nFare: 7.75,\\n\",\n",
       " 'Survived: 0,\\nPclass: 3,\\nName: Mr. Youssef Samaan,\\nSex: male,\\nAge: 16.0,\\nSiblings/Spouses Aboard: 2,\\nParents/Children Aboard: 0,\\nFare: 21.6792,\\n',\n",
       " 'Survived: 0,\\nPclass: 3,\\nName: Mrs. Josef (Josefine Franchi) Arnold-Franchi,\\nSex: female,\\nAge: 18.0,\\nSiblings/Spouses Aboard: 1,\\nParents/Children Aboard: 0,\\nFare: 17.8,\\n',\n",
       " 'Survived: 0,\\nPclass: 3,\\nName: Master. Juha Niilo Panula,\\nSex: male,\\nAge: 7.0,\\nSiblings/Spouses Aboard: 4,\\nParents/Children Aboard: 1,\\nFare: 39.6875,\\n',\n",
       " 'Survived: 0,\\nPclass: 3,\\nName: Mr. Richard Cater Nosworthy,\\nSex: male,\\nAge: 21.0,\\nSiblings/Spouses Aboard: 0,\\nParents/Children Aboard: 0,\\nFare: 7.8,\\n',\n",
       " 'Survived: 1,\\nPclass: 1,\\nName: Mrs. Henry Sleeper (Myna Haxtun) Harper,\\nSex: female,\\nAge: 49.0,\\nSiblings/Spouses Aboard: 1,\\nParents/Children Aboard: 0,\\nFare: 76.7292,\\n',\n",
       " 'Survived: 1,\\nPclass: 2,\\nName: Mrs. Lizzie (Elizabeth Anne Wilkinson) Faunthorpe,\\nSex: female,\\nAge: 29.0,\\nSiblings/Spouses Aboard: 1,\\nParents/Children Aboard: 0,\\nFare: 26.0,\\n',\n",
       " 'Survived: 0,\\nPclass: 1,\\nName: Mr. Engelhart Cornelius Ostby,\\nSex: male,\\nAge: 65.0,\\nSiblings/Spouses Aboard: 0,\\nParents/Children Aboard: 1,\\nFare: 61.9792,\\n',\n",
       " 'Survived: 1,\\nPclass: 1,\\nName: Mr. Hugh Woolner,\\nSex: male,\\nAge: 46.0,\\nSiblings/Spouses Aboard: 0,\\nParents/Children Aboard: 0,\\nFare: 35.5,\\n',\n",
       " 'Survived: 1,\\nPclass: 2,\\nName: Miss. Emily Rugg,\\nSex: female,\\nAge: 21.0,\\nSiblings/Spouses Aboard: 0,\\nParents/Children Aboard: 0,\\nFare: 10.5,\\n',\n",
       " 'Survived: 0,\\nPclass: 3,\\nName: Mr. Mansouer Novel,\\nSex: male,\\nAge: 28.5,\\nSiblings/Spouses Aboard: 0,\\nParents/Children Aboard: 0,\\nFare: 7.2292,\\n',\n",
       " 'Survived: 1,\\nPclass: 2,\\nName: Miss. Constance Mirium West,\\nSex: female,\\nAge: 5.0,\\nSiblings/Spouses Aboard: 1,\\nParents/Children Aboard: 2,\\nFare: 27.75,\\n',\n",
       " 'Survived: 0,\\nPclass: 3,\\nName: Master. William Frederick Goodwin,\\nSex: male,\\nAge: 11.0,\\nSiblings/Spouses Aboard: 5,\\nParents/Children Aboard: 2,\\nFare: 46.9,\\n',\n",
       " 'Survived: 0,\\nPclass: 3,\\nName: Mr. Orsen Sirayanian,\\nSex: male,\\nAge: 22.0,\\nSiblings/Spouses Aboard: 0,\\nParents/Children Aboard: 0,\\nFare: 7.2292,\\n',\n",
       " 'Survived: 1,\\nPclass: 1,\\nName: Miss. Amelie Icard,\\nSex: female,\\nAge: 38.0,\\nSiblings/Spouses Aboard: 0,\\nParents/Children Aboard: 0,\\nFare: 80.0,\\n',\n",
       " 'Survived: 0,\\nPclass: 1,\\nName: Mr. Henry Birkhardt Harris,\\nSex: male,\\nAge: 45.0,\\nSiblings/Spouses Aboard: 1,\\nParents/Children Aboard: 0,\\nFare: 83.475,\\n',\n",
       " 'Survived: 0,\\nPclass: 3,\\nName: Master. Harald Skoog,\\nSex: male,\\nAge: 4.0,\\nSiblings/Spouses Aboard: 3,\\nParents/Children Aboard: 2,\\nFare: 27.9,\\n',\n",
       " 'Survived: 0,\\nPclass: 1,\\nName: Mr. Albert A Stewart,\\nSex: male,\\nAge: 64.0,\\nSiblings/Spouses Aboard: 0,\\nParents/Children Aboard: 0,\\nFare: 27.7208,\\n',\n",
       " 'Survived: 1,\\nPclass: 3,\\nName: Master. Gerios Moubarek,\\nSex: male,\\nAge: 7.0,\\nSiblings/Spouses Aboard: 1,\\nParents/Children Aboard: 1,\\nFare: 15.2458,\\n',\n",
       " 'Survived: 1,\\nPclass: 2,\\nName: Mrs. (Elizabeth Ramell) Nye,\\nSex: female,\\nAge: 29.0,\\nSiblings/Spouses Aboard: 0,\\nParents/Children Aboard: 0,\\nFare: 10.5,\\n',\n",
       " 'Survived: 0,\\nPclass: 3,\\nName: Mr. Ernest James Crease,\\nSex: male,\\nAge: 19.0,\\nSiblings/Spouses Aboard: 0,\\nParents/Children Aboard: 0,\\nFare: 8.1583,\\n',\n",
       " 'Survived: 1,\\nPclass: 3,\\nName: Miss. Erna Alexandra Andersson,\\nSex: female,\\nAge: 17.0,\\nSiblings/Spouses Aboard: 4,\\nParents/Children Aboard: 2,\\nFare: 7.925,\\n',\n",
       " 'Survived: 0,\\nPclass: 3,\\nName: Mr. Vincenz Kink,\\nSex: male,\\nAge: 26.0,\\nSiblings/Spouses Aboard: 2,\\nParents/Children Aboard: 0,\\nFare: 8.6625,\\n',\n",
       " 'Survived: 0,\\nPclass: 2,\\nName: Mr. Stephen Curnow Jenkin,\\nSex: male,\\nAge: 32.0,\\nSiblings/Spouses Aboard: 0,\\nParents/Children Aboard: 0,\\nFare: 10.5,\\n',\n",
       " 'Survived: 0,\\nPclass: 3,\\nName: Miss. Lillian Amy Goodwin,\\nSex: female,\\nAge: 16.0,\\nSiblings/Spouses Aboard: 5,\\nParents/Children Aboard: 2,\\nFare: 46.9,\\n',\n",
       " 'Survived: 0,\\nPclass: 2,\\nName: Mr. Ambrose Jr Hood,\\nSex: male,\\nAge: 21.0,\\nSiblings/Spouses Aboard: 0,\\nParents/Children Aboard: 0,\\nFare: 73.5,\\n',\n",
       " 'Survived: 0,\\nPclass: 3,\\nName: Mr. Apostolos Chronopoulos,\\nSex: male,\\nAge: 26.0,\\nSiblings/Spouses Aboard: 1,\\nParents/Children Aboard: 0,\\nFare: 14.4542,\\n',\n",
       " 'Survived: 1,\\nPclass: 3,\\nName: Mr. Lee Bing,\\nSex: male,\\nAge: 32.0,\\nSiblings/Spouses Aboard: 0,\\nParents/Children Aboard: 0,\\nFare: 56.4958,\\n',\n",
       " 'Survived: 0,\\nPclass: 3,\\nName: Mr. Sigurd Hansen Moen,\\nSex: male,\\nAge: 25.0,\\nSiblings/Spouses Aboard: 0,\\nParents/Children Aboard: 0,\\nFare: 7.65,\\n',\n",
       " 'Survived: 0,\\nPclass: 3,\\nName: Mr. Ivan Staneff,\\nSex: male,\\nAge: 23.0,\\nSiblings/Spouses Aboard: 0,\\nParents/Children Aboard: 0,\\nFare: 7.8958,\\n',\n",
       " 'Survived: 0,\\nPclass: 3,\\nName: Mr. Rahamin Haim Moutal,\\nSex: male,\\nAge: 28.0,\\nSiblings/Spouses Aboard: 0,\\nParents/Children Aboard: 0,\\nFare: 8.05,\\n',\n",
       " 'Survived: 1,\\nPclass: 2,\\nName: Master. Alden Gates Caldwell,\\nSex: male,\\nAge: 0.83,\\nSiblings/Spouses Aboard: 0,\\nParents/Children Aboard: 2,\\nFare: 29.0,\\n',\n",
       " 'Survived: 1,\\nPclass: 3,\\nName: Miss. Elizabeth Dowdell,\\nSex: female,\\nAge: 30.0,\\nSiblings/Spouses Aboard: 0,\\nParents/Children Aboard: 0,\\nFare: 12.475,\\n',\n",
       " 'Survived: 0,\\nPclass: 3,\\nName: Mr. Achille Waelens,\\nSex: male,\\nAge: 22.0,\\nSiblings/Spouses Aboard: 0,\\nParents/Children Aboard: 0,\\nFare: 9.0,\\n',\n",
       " 'Survived: 1,\\nPclass: 3,\\nName: Mr. Jan Baptist Sheerlinck,\\nSex: male,\\nAge: 29.0,\\nSiblings/Spouses Aboard: 0,\\nParents/Children Aboard: 0,\\nFare: 9.5,\\n',\n",
       " 'Survived: 1,\\nPclass: 3,\\nName: Miss. Brigdet Delia McDermott,\\nSex: female,\\nAge: 31.0,\\nSiblings/Spouses Aboard: 0,\\nParents/Children Aboard: 0,\\nFare: 7.7875,\\n',\n",
       " 'Survived: 0,\\nPclass: 1,\\nName: Mr. Francisco M Carrau,\\nSex: male,\\nAge: 28.0,\\nSiblings/Spouses Aboard: 0,\\nParents/Children Aboard: 0,\\nFare: 47.1,\\n',\n",
       " 'Survived: 1,\\nPclass: 2,\\nName: Miss. Bertha Ilett,\\nSex: female,\\nAge: 17.0,\\nSiblings/Spouses Aboard: 0,\\nParents/Children Aboard: 0,\\nFare: 10.5,\\n',\n",
       " 'Survived: 1,\\nPclass: 3,\\nName: Mrs. Karl Alfred (Maria Mathilda Gustafsson) Backstrom,\\nSex: female,\\nAge: 33.0,\\nSiblings/Spouses Aboard: 3,\\nParents/Children Aboard: 0,\\nFare: 15.85,\\n',\n",
       " 'Survived: 0,\\nPclass: 3,\\nName: Mr. William Neal Ford,\\nSex: male,\\nAge: 16.0,\\nSiblings/Spouses Aboard: 1,\\nParents/Children Aboard: 3,\\nFare: 34.375,\\n',\n",
       " 'Survived: 0,\\nPclass: 3,\\nName: Mr. Selman Francis Slocovski,\\nSex: male,\\nAge: 20.0,\\nSiblings/Spouses Aboard: 0,\\nParents/Children Aboard: 0,\\nFare: 8.05,\\n',\n",
       " 'Survived: 1,\\nPclass: 1,\\nName: Miss. Mabel Helen Fortune,\\nSex: female,\\nAge: 23.0,\\nSiblings/Spouses Aboard: 3,\\nParents/Children Aboard: 2,\\nFare: 263.0,\\n',\n",
       " 'Survived: 0,\\nPclass: 3,\\nName: Mr. Francesco Celotti,\\nSex: male,\\nAge: 24.0,\\nSiblings/Spouses Aboard: 0,\\nParents/Children Aboard: 0,\\nFare: 8.05,\\n',\n",
       " 'Survived: 0,\\nPclass: 3,\\nName: Mr. Emil Christmann,\\nSex: male,\\nAge: 29.0,\\nSiblings/Spouses Aboard: 0,\\nParents/Children Aboard: 0,\\nFare: 8.05,\\n',\n",
       " 'Survived: 0,\\nPclass: 3,\\nName: Mr. Paul Edvin Andreasson,\\nSex: male,\\nAge: 20.0,\\nSiblings/Spouses Aboard: 0,\\nParents/Children Aboard: 0,\\nFare: 7.8542,\\n',\n",
       " 'Survived: 0,\\nPclass: 1,\\nName: Mr. Herbert Fuller Chaffee,\\nSex: male,\\nAge: 46.0,\\nSiblings/Spouses Aboard: 1,\\nParents/Children Aboard: 0,\\nFare: 61.175,\\n',\n",
       " 'Survived: 0,\\nPclass: 3,\\nName: Mr. Bertram Frank Dean,\\nSex: male,\\nAge: 26.0,\\nSiblings/Spouses Aboard: 1,\\nParents/Children Aboard: 2,\\nFare: 20.575,\\n',\n",
       " 'Survived: 0,\\nPclass: 3,\\nName: Mr. Daniel Coxon,\\nSex: male,\\nAge: 59.0,\\nSiblings/Spouses Aboard: 0,\\nParents/Children Aboard: 0,\\nFare: 7.25,\\n',\n",
       " 'Survived: 0,\\nPclass: 3,\\nName: Mr. Charles Joseph Shorney,\\nSex: male,\\nAge: 22.0,\\nSiblings/Spouses Aboard: 0,\\nParents/Children Aboard: 0,\\nFare: 8.05,\\n',\n",
       " 'Survived: 0,\\nPclass: 1,\\nName: Mr. George B Goldschmidt,\\nSex: male,\\nAge: 71.0,\\nSiblings/Spouses Aboard: 0,\\nParents/Children Aboard: 0,\\nFare: 34.6542,\\n',\n",
       " 'Survived: 1,\\nPclass: 1,\\nName: Mr. William Bertram Greenfield,\\nSex: male,\\nAge: 23.0,\\nSiblings/Spouses Aboard: 0,\\nParents/Children Aboard: 1,\\nFare: 63.3583,\\n',\n",
       " 'Survived: 1,\\nPclass: 2,\\nName: Mrs. John T (Ada Julia Bone) Doling,\\nSex: female,\\nAge: 34.0,\\nSiblings/Spouses Aboard: 0,\\nParents/Children Aboard: 1,\\nFare: 23.0,\\n',\n",
       " 'Survived: 0,\\nPclass: 2,\\nName: Mr. Sinai Kantor,\\nSex: male,\\nAge: 34.0,\\nSiblings/Spouses Aboard: 1,\\nParents/Children Aboard: 0,\\nFare: 26.0,\\n',\n",
       " 'Survived: 0,\\nPclass: 3,\\nName: Miss. Matilda Petranec,\\nSex: female,\\nAge: 28.0,\\nSiblings/Spouses Aboard: 0,\\nParents/Children Aboard: 0,\\nFare: 7.8958,\\n']"
      ]
     },
     "execution_count": 9,
     "metadata": {},
     "output_type": "execute_result"
    }
   ],
   "source": [
    "docs"
   ]
  },
  {
   "cell_type": "code",
   "execution_count": 11,
   "metadata": {},
   "outputs": [
    {
     "name": "stdout",
     "output_type": "stream",
     "text": [
      "[{'source': 'titanic'}, {'source': 'titanic'}, {'source': 'titanic'}, {'source': 'titanic'}, {'source': 'titanic'}, {'source': 'titanic'}, {'source': 'titanic'}, {'source': 'titanic'}, {'source': 'titanic'}, {'source': 'titanic'}, {'source': 'titanic'}, {'source': 'titanic'}, {'source': 'titanic'}, {'source': 'titanic'}, {'source': 'titanic'}, {'source': 'titanic'}, {'source': 'titanic'}, {'source': 'titanic'}, {'source': 'titanic'}, {'source': 'titanic'}, {'source': 'titanic'}, {'source': 'titanic'}, {'source': 'titanic'}, {'source': 'titanic'}, {'source': 'titanic'}, {'source': 'titanic'}, {'source': 'titanic'}, {'source': 'titanic'}, {'source': 'titanic'}, {'source': 'titanic'}, {'source': 'titanic'}, {'source': 'titanic'}, {'source': 'titanic'}, {'source': 'titanic'}, {'source': 'titanic'}, {'source': 'titanic'}, {'source': 'titanic'}, {'source': 'titanic'}, {'source': 'titanic'}, {'source': 'titanic'}, {'source': 'titanic'}, {'source': 'titanic'}, {'source': 'titanic'}, {'source': 'titanic'}, {'source': 'titanic'}, {'source': 'titanic'}, {'source': 'titanic'}, {'source': 'titanic'}, {'source': 'titanic'}, {'source': 'titanic'}, {'source': 'titanic'}, {'source': 'titanic'}, {'source': 'titanic'}, {'source': 'titanic'}, {'source': 'titanic'}, {'source': 'titanic'}, {'source': 'titanic'}, {'source': 'titanic'}, {'source': 'titanic'}, {'source': 'titanic'}, {'source': 'titanic'}, {'source': 'titanic'}, {'source': 'titanic'}, {'source': 'titanic'}, {'source': 'titanic'}, {'source': 'titanic'}, {'source': 'titanic'}, {'source': 'titanic'}, {'source': 'titanic'}, {'source': 'titanic'}, {'source': 'titanic'}, {'source': 'titanic'}, {'source': 'titanic'}, {'source': 'titanic'}, {'source': 'titanic'}, {'source': 'titanic'}, {'source': 'titanic'}, {'source': 'titanic'}, {'source': 'titanic'}, {'source': 'titanic'}, {'source': 'titanic'}, {'source': 'titanic'}, {'source': 'titanic'}, {'source': 'titanic'}, {'source': 'titanic'}, {'source': 'titanic'}, {'source': 'titanic'}, {'source': 'titanic'}, {'source': 'titanic'}, {'source': 'titanic'}, {'source': 'titanic'}, {'source': 'titanic'}, {'source': 'titanic'}, {'source': 'titanic'}, {'source': 'titanic'}, {'source': 'titanic'}, {'source': 'titanic'}, {'source': 'titanic'}, {'source': 'titanic'}, {'source': 'titanic'}]\n",
      "['id0', 'id1', 'id2', 'id3', 'id4', 'id5', 'id6', 'id7', 'id8', 'id9', 'id10', 'id11', 'id12', 'id13', 'id14', 'id15', 'id16', 'id17', 'id18', 'id19', 'id20', 'id21', 'id22', 'id23', 'id24', 'id25', 'id26', 'id27', 'id28', 'id29', 'id30', 'id31', 'id32', 'id33', 'id34', 'id35', 'id36', 'id37', 'id38', 'id39', 'id40', 'id41', 'id42', 'id43', 'id44', 'id45', 'id46', 'id47', 'id48', 'id49', 'id50', 'id51', 'id52', 'id53', 'id54', 'id55', 'id56', 'id57', 'id58', 'id59', 'id60', 'id61', 'id62', 'id63', 'id64', 'id65', 'id66', 'id67', 'id68', 'id69', 'id70', 'id71', 'id72', 'id73', 'id74', 'id75', 'id76', 'id77', 'id78', 'id79', 'id80', 'id81', 'id82', 'id83', 'id84', 'id85', 'id86', 'id87', 'id88', 'id89', 'id90', 'id91', 'id92', 'id93', 'id94', 'id95', 'id96', 'id97', 'id98', 'id99']\n",
      "100\n",
      "1536\n"
     ]
    }
   ],
   "source": [
    "print(metadatas)\n",
    "print(ids)\n",
    "print(len(embeddings))\n",
    "print(len(embeddings[0]))"
   ]
  },
  {
   "cell_type": "code",
   "execution_count": 12,
   "metadata": {},
   "outputs": [],
   "source": [
    "collection.add(\n",
    "    documents=docs,\n",
    "    metadatas=metadatas,\n",
    "    embeddings=embeddings,\n",
    "    ids=ids\n",
    ")"
   ]
  },
  {
   "cell_type": "markdown",
   "metadata": {},
   "source": [
    "Verify the vectorDB creation"
   ]
  },
  {
   "cell_type": "code",
   "execution_count": 13,
   "metadata": {},
   "outputs": [
    {
     "name": "stdout",
     "output_type": "stream",
     "text": [
      "Number of vectors in vectordb: 100\n"
     ]
    }
   ],
   "source": [
    "print(\"Number of vectors in vectordb:\", collection.count())"
   ]
  },
  {
   "cell_type": "markdown",
   "metadata": {},
   "source": [
    "### RAG"
   ]
  },
  {
   "cell_type": "code",
   "execution_count": 14,
   "metadata": {},
   "outputs": [],
   "source": [
    "from openai import OpenAI"
   ]
  },
  {
   "cell_type": "code",
   "execution_count": 15,
   "metadata": {},
   "outputs": [],
   "source": [
    "model_name = \"gpt-3.5-turbo\"\n",
    "openai_client = OpenAI()"
   ]
  },
  {
   "cell_type": "markdown",
   "metadata": {},
   "source": [
    "**Perform similarity search**"
   ]
  },
  {
   "cell_type": "code",
   "execution_count": 48,
   "metadata": {},
   "outputs": [],
   "source": [
    "query_texts = \"what's the average age of survivors\"\n",
    "response = openai_client.embeddings.create(\n",
    "        input = query_texts,\n",
    "        model= \"text-embedding-ada-002\",\n",
    "    )\n",
    "query_embeddings = response.data[0].embedding"
   ]
  },
  {
   "cell_type": "markdown",
   "metadata": {},
   "source": [
    "**Load the chromaDB collection for vector search**"
   ]
  },
  {
   "cell_type": "code",
   "execution_count": 128,
   "metadata": {},
   "outputs": [
    {
     "data": {
      "text/plain": [
       "100"
      ]
     },
     "execution_count": 128,
     "metadata": {},
     "output_type": "execute_result"
    }
   ],
   "source": [
    "vectordb = chroma_client.get_collection(name=\"titanic\")\n",
    "vectordb.count()"
   ]
  },
  {
   "cell_type": "code",
   "execution_count": 135,
   "metadata": {},
   "outputs": [
    {
     "data": {
      "text/plain": [
       "{'ids': [['id13']],\n",
       " 'distances': [[0.4677661061286926]],\n",
       " 'metadatas': [[{'source': 'titanic'}]],\n",
       " 'embeddings': None,\n",
       " 'documents': [['Survived: 0,\\nPclass: 3,\\nName: Mr. Anders Johan Andersson,\\nSex: male,\\nAge: 39.0,\\nSiblings/Spouses Aboard: 1,\\nParents/Children Aboard: 5,\\nFare: 31.275,\\n']],\n",
       " 'uris': None,\n",
       " 'data': None,\n",
       " 'included': ['metadatas', 'documents', 'distances']}"
      ]
     },
     "execution_count": 135,
     "metadata": {},
     "output_type": "execute_result"
    }
   ],
   "source": [
    "results = vectordb.query(\n",
    "    query_embeddings = query_embeddings,\n",
    "    n_results=1 #top_k\n",
    ")\n",
    "results"
   ]
  },
  {
   "cell_type": "markdown",
   "metadata": {},
   "source": [
    "Pass the results to an LLM"
   ]
  },
  {
   "cell_type": "code",
   "execution_count": 136,
   "metadata": {},
   "outputs": [],
   "source": [
    "system_role = \"You will recieve the user's question along with the search results of that question over a database. Give the user the proper answer.\"\n",
    "prompt = f\"User's question: {query_texts} \\n\\n Search results:\\n {results}\"\n",
    "\n",
    "messages = [\n",
    "    {\"role\": \"system\", \"content\": str(\n",
    "        system_role\n",
    "        )},\n",
    "    {\"role\": \"user\", \"content\": prompt}\n",
    "]"
   ]
  },
  {
   "cell_type": "code",
   "execution_count": 137,
   "metadata": {},
   "outputs": [
    {
     "data": {
      "text/plain": [
       "'The average age of survivors is not provided in the search results. Would you like me to try searching for the average age of survivors in a different database or provide you with more information on this topic?'"
      ]
     },
     "execution_count": 137,
     "metadata": {},
     "output_type": "execute_result"
    }
   ],
   "source": [
    "response = openai_client.chat.completions.create(\n",
    "    model='gpt-3.5-turbo',\n",
    "    messages=messages,\n",
    "    temperature=0.0\n",
    ")\n",
    "response.choices[0].message.content"
   ]
  },
  {
   "cell_type": "code",
   "execution_count": 140,
   "metadata": {},
   "outputs": [
    {
     "data": {
      "text/plain": [
       "{'ids': [['id13', 'id79', 'id71', 'id56', 'id80']],\n",
       " 'distances': [[0.4677661061286926,\n",
       "   0.4689880311489105,\n",
       "   0.46990108489990234,\n",
       "   0.4712609350681305,\n",
       "   0.4714908003807068]],\n",
       " 'metadatas': [[{'source': 'titanic'},\n",
       "   {'source': 'titanic'},\n",
       "   {'source': 'titanic'},\n",
       "   {'source': 'titanic'},\n",
       "   {'source': 'titanic'}]],\n",
       " 'embeddings': None,\n",
       " 'documents': [['Survived: 0,\\nPclass: 3,\\nName: Mr. Anders Johan Andersson,\\nSex: male,\\nAge: 39.0,\\nSiblings/Spouses Aboard: 1,\\nParents/Children Aboard: 5,\\nFare: 31.275,\\n',\n",
       "   'Survived: 0,\\nPclass: 3,\\nName: Mr. Achille Waelens,\\nSex: male,\\nAge: 22.0,\\nSiblings/Spouses Aboard: 0,\\nParents/Children Aboard: 0,\\nFare: 9.0,\\n',\n",
       "   'Survived: 0,\\nPclass: 2,\\nName: Mr. Ambrose Jr Hood,\\nSex: male,\\nAge: 21.0,\\nSiblings/Spouses Aboard: 0,\\nParents/Children Aboard: 0,\\nFare: 73.5,\\n',\n",
       "   'Survived: 0,\\nPclass: 3,\\nName: Mr. Mansouer Novel,\\nSex: male,\\nAge: 28.5,\\nSiblings/Spouses Aboard: 0,\\nParents/Children Aboard: 0,\\nFare: 7.2292,\\n',\n",
       "   'Survived: 1,\\nPclass: 3,\\nName: Mr. Jan Baptist Sheerlinck,\\nSex: male,\\nAge: 29.0,\\nSiblings/Spouses Aboard: 0,\\nParents/Children Aboard: 0,\\nFare: 9.5,\\n']],\n",
       " 'uris': None,\n",
       " 'data': None,\n",
       " 'included': ['metadatas', 'documents', 'distances']}"
      ]
     },
     "execution_count": 140,
     "metadata": {},
     "output_type": "execute_result"
    }
   ],
   "source": [
    "results = vectordb.query(\n",
    "    query_embeddings = query_embeddings,\n",
    "    n_results=5 #top_k\n",
    ")\n",
    "results"
   ]
  },
  {
   "cell_type": "code",
   "execution_count": 141,
   "metadata": {},
   "outputs": [
    {
     "data": {
      "text/plain": [
       "'The average age of survivors is not provided in the search results. Would you like me to try to find more information on the average age of survivors for you?'"
      ]
     },
     "execution_count": 141,
     "metadata": {},
     "output_type": "execute_result"
    }
   ],
   "source": [
    "response = openai_client.chat.completions.create(\n",
    "    model='gpt-3.5-turbo',\n",
    "    messages=messages,\n",
    "    temperature=0.0\n",
    ")\n",
    "response.choices[0].message.content"
   ]
  },
  {
   "cell_type": "code",
   "execution_count": 144,
   "metadata": {},
   "outputs": [
    {
     "data": {
      "text/plain": [
       "{'ids': [['id13',\n",
       "   'id79',\n",
       "   'id71',\n",
       "   'id56',\n",
       "   'id80',\n",
       "   'id82',\n",
       "   'id74',\n",
       "   'id10',\n",
       "   'id33',\n",
       "   'id23']],\n",
       " 'distances': [[0.4677661061286926,\n",
       "   0.4689880311489105,\n",
       "   0.46990108489990234,\n",
       "   0.4712609350681305,\n",
       "   0.4714908003807068,\n",
       "   0.4721372723579407,\n",
       "   0.4728683829307556,\n",
       "   0.473883718252182,\n",
       "   0.4751106798648834,\n",
       "   0.4757847785949707]],\n",
       " 'metadatas': [[{'source': 'titanic'},\n",
       "   {'source': 'titanic'},\n",
       "   {'source': 'titanic'},\n",
       "   {'source': 'titanic'},\n",
       "   {'source': 'titanic'},\n",
       "   {'source': 'titanic'},\n",
       "   {'source': 'titanic'},\n",
       "   {'source': 'titanic'},\n",
       "   {'source': 'titanic'},\n",
       "   {'source': 'titanic'}]],\n",
       " 'embeddings': None,\n",
       " 'documents': [['Survived: 0,\\nPclass: 3,\\nName: Mr. Anders Johan Andersson,\\nSex: male,\\nAge: 39.0,\\nSiblings/Spouses Aboard: 1,\\nParents/Children Aboard: 5,\\nFare: 31.275,\\n',\n",
       "   'Survived: 0,\\nPclass: 3,\\nName: Mr. Achille Waelens,\\nSex: male,\\nAge: 22.0,\\nSiblings/Spouses Aboard: 0,\\nParents/Children Aboard: 0,\\nFare: 9.0,\\n',\n",
       "   'Survived: 0,\\nPclass: 2,\\nName: Mr. Ambrose Jr Hood,\\nSex: male,\\nAge: 21.0,\\nSiblings/Spouses Aboard: 0,\\nParents/Children Aboard: 0,\\nFare: 73.5,\\n',\n",
       "   'Survived: 0,\\nPclass: 3,\\nName: Mr. Mansouer Novel,\\nSex: male,\\nAge: 28.5,\\nSiblings/Spouses Aboard: 0,\\nParents/Children Aboard: 0,\\nFare: 7.2292,\\n',\n",
       "   'Survived: 1,\\nPclass: 3,\\nName: Mr. Jan Baptist Sheerlinck,\\nSex: male,\\nAge: 29.0,\\nSiblings/Spouses Aboard: 0,\\nParents/Children Aboard: 0,\\nFare: 9.5,\\n',\n",
       "   'Survived: 0,\\nPclass: 1,\\nName: Mr. Francisco M Carrau,\\nSex: male,\\nAge: 28.0,\\nSiblings/Spouses Aboard: 0,\\nParents/Children Aboard: 0,\\nFare: 47.1,\\n',\n",
       "   'Survived: 0,\\nPclass: 3,\\nName: Mr. Sigurd Hansen Moen,\\nSex: male,\\nAge: 25.0,\\nSiblings/Spouses Aboard: 0,\\nParents/Children Aboard: 0,\\nFare: 7.65,\\n',\n",
       "   'Survived: 1,\\nPclass: 3,\\nName: Miss. Marguerite Rut Sandstrom,\\nSex: female,\\nAge: 4.0,\\nSiblings/Spouses Aboard: 1,\\nParents/Children Aboard: 1,\\nFare: 16.7,\\n',\n",
       "   'Survived: 0,\\nPclass: 2,\\nName: Mr. Edward H Wheadon,\\nSex: male,\\nAge: 66.0,\\nSiblings/Spouses Aboard: 0,\\nParents/Children Aboard: 0,\\nFare: 10.5,\\n',\n",
       "   'Survived: 1,\\nPclass: 1,\\nName: Mr. William Thompson Sloper,\\nSex: male,\\nAge: 28.0,\\nSiblings/Spouses Aboard: 0,\\nParents/Children Aboard: 0,\\nFare: 35.5,\\n']],\n",
       " 'uris': None,\n",
       " 'data': None,\n",
       " 'included': ['metadatas', 'documents', 'distances']}"
      ]
     },
     "execution_count": 144,
     "metadata": {},
     "output_type": "execute_result"
    }
   ],
   "source": [
    "results = vectordb.query(\n",
    "    query_embeddings = query_embeddings,\n",
    "    n_results=10 #top_k\n",
    ")\n",
    "results"
   ]
  },
  {
   "cell_type": "code",
   "execution_count": 145,
   "metadata": {},
   "outputs": [
    {
     "data": {
      "text/plain": [
       "'Based on the search results, the average age of survivors is not explicitly provided. The specific information given is about a male passenger named Mr. Anders Johan Andersson who did not survive. To determine the average age of survivors, we would need more data on the ages of all survivors from the Titanic dataset.'"
      ]
     },
     "execution_count": 145,
     "metadata": {},
     "output_type": "execute_result"
    }
   ],
   "source": [
    "response = openai_client.chat.completions.create(\n",
    "    model='gpt-3.5-turbo',\n",
    "    messages=messages,\n",
    "    temperature=0.0\n",
    ")\n",
    "response.choices[0].message.content"
   ]
  },
  {
   "cell_type": "code",
   "execution_count": null,
   "metadata": {},
   "outputs": [],
   "source": []
  }
 ],
 "metadata": {
  "kernelspec": {
   "display_name": "Python 3 (ipykernel)",
   "language": "python",
   "name": "python3"
  },
  "language_info": {
   "codemirror_mode": {
    "name": "ipython",
    "version": 3
   },
   "file_extension": ".py",
   "mimetype": "text/x-python",
   "name": "python",
   "nbconvert_exporter": "python",
   "pygments_lexer": "ipython3",
   "version": "3.9.0"
  }
 },
 "nbformat": 4,
 "nbformat_minor": 4
}
