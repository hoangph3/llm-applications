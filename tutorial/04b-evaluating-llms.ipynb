{
 "cells": [
  {
   "cell_type": "markdown",
   "metadata": {
    "application/vnd.databricks.v1+cell": {
     "cellMetadata": {},
     "inputWidgets": {},
     "nuid": "45c172b6-f8b5-4cc7-9205-b83010e5e062",
     "showTitle": false,
     "title": ""
    }
   },
   "source": [
    "# Evaluating Large Language Models (LLMs)\n",
    "This notebook demonstrates methods for evaluating LLMs.  We focus on the task of summarization and cover accuracy, ROUGE-N, and perplexity.\n",
    "\n",
    "### ![Dolly](https://files.training.databricks.com/images/llm/dolly_small.png) Learning Objectives\n",
    "1. Know how to compute ROUGE-N and other metrics.\n",
    "2. Gain an intuitive understanding of ROUGE-N.\n",
    "3. Test various models and model sizes on the same data, and compare their results."
   ]
  },
  {
   "cell_type": "markdown",
   "metadata": {
    "application/vnd.databricks.v1+cell": {
     "cellMetadata": {},
     "inputWidgets": {},
     "nuid": "27afcd4a-9249-45d4-a169-9cafd48e205e",
     "showTitle": false,
     "title": ""
    }
   },
   "source": [
    "## Classroom Setup"
   ]
  },
  {
   "cell_type": "code",
   "execution_count": 3,
   "metadata": {
    "application/vnd.databricks.v1+cell": {
     "cellMetadata": {},
     "inputWidgets": {},
     "nuid": "16defd51-f1c3-4a72-af11-8a59b90e4083",
     "showTitle": false,
     "title": ""
    }
   },
   "outputs": [
    {
     "name": "stdout",
     "output_type": "stream",
     "text": [
      "Collecting rouge_score==0.1.2\n",
      "  Downloading rouge_score-0.1.2.tar.gz (17 kB)\n",
      "  Preparing metadata (setup.py) ... \u001b[?25ldone\n",
      "\u001b[?25hCollecting absl-py (from rouge_score==0.1.2)\n",
      "  Downloading absl_py-2.1.0-py3-none-any.whl.metadata (2.3 kB)\n",
      "Collecting nltk (from rouge_score==0.1.2)\n",
      "  Using cached nltk-3.8.1-py3-none-any.whl.metadata (2.8 kB)\n",
      "Requirement already satisfied: numpy in /home/hoang/miniconda3/envs/llm/lib/python3.9/site-packages (from rouge_score==0.1.2) (1.26.4)\n",
      "Requirement already satisfied: six>=1.14.0 in /home/hoang/miniconda3/envs/llm/lib/python3.9/site-packages (from rouge_score==0.1.2) (1.16.0)\n",
      "Requirement already satisfied: click in /home/hoang/miniconda3/envs/llm/lib/python3.9/site-packages (from nltk->rouge_score==0.1.2) (8.1.7)\n",
      "Requirement already satisfied: joblib in /home/hoang/miniconda3/envs/llm/lib/python3.9/site-packages (from nltk->rouge_score==0.1.2) (1.4.2)\n",
      "Requirement already satisfied: regex>=2021.8.3 in /home/hoang/miniconda3/envs/llm/lib/python3.9/site-packages (from nltk->rouge_score==0.1.2) (2024.5.15)\n",
      "Requirement already satisfied: tqdm in /home/hoang/miniconda3/envs/llm/lib/python3.9/site-packages (from nltk->rouge_score==0.1.2) (4.66.4)\n",
      "Downloading absl_py-2.1.0-py3-none-any.whl (133 kB)\n",
      "\u001b[2K   \u001b[38;2;114;156;31m━━━━━━━━━━━━━━━━━━━━━━━━━━━━━━━━━━━━━━━━\u001b[0m \u001b[32m133.7/133.7 kB\u001b[0m \u001b[31m1.3 MB/s\u001b[0m eta \u001b[36m0:00:00\u001b[0m[31m2.3 MB/s\u001b[0m eta \u001b[36m0:00:01\u001b[0m\n",
      "\u001b[?25hDownloading nltk-3.8.1-py3-none-any.whl (1.5 MB)\n",
      "\u001b[2K   \u001b[38;2;114;156;31m━━━━━━━━━━━━━━━━━━━━━━━━━━━━━━━━━━━━━━━━\u001b[0m \u001b[32m1.5/1.5 MB\u001b[0m \u001b[31m6.1 MB/s\u001b[0m eta \u001b[36m0:00:00\u001b[0m[36m0:00:01\u001b[0mm eta \u001b[36m0:00:01\u001b[0m\n",
      "\u001b[?25hBuilding wheels for collected packages: rouge_score\n",
      "  Building wheel for rouge_score (setup.py) ... \u001b[?25ldone\n",
      "\u001b[?25h  Created wheel for rouge_score: filename=rouge_score-0.1.2-py3-none-any.whl size=24934 sha256=484f88b0ad5443c48d4a2c70f62f16929536680a8b4c24735cc147012a1cf9b9\n",
      "  Stored in directory: /home/hoang/.cache/pip/wheels/9b/3d/39/09558097d3119ca0a4d462df68f22c6f3c1b345ac63a09b86e\n",
      "Successfully built rouge_score\n",
      "Installing collected packages: nltk, absl-py, rouge_score\n",
      "Successfully installed absl-py-2.1.0 nltk-3.8.1 rouge_score-0.1.2\n",
      "Note: you may need to restart the kernel to use updated packages.\n"
     ]
    }
   ],
   "source": [
    "%pip install rouge_score==0.1.2"
   ]
  },
  {
   "cell_type": "code",
   "execution_count": 4,
   "metadata": {},
   "outputs": [
    {
     "name": "stdout",
     "output_type": "stream",
     "text": [
      "Collecting evaluate\n",
      "  Downloading evaluate-0.4.2-py3-none-any.whl.metadata (9.3 kB)\n",
      "Requirement already satisfied: datasets>=2.0.0 in /home/hoang/miniconda3/envs/llm/lib/python3.9/site-packages (from evaluate) (2.20.0)\n",
      "Requirement already satisfied: numpy>=1.17 in /home/hoang/miniconda3/envs/llm/lib/python3.9/site-packages (from evaluate) (1.26.4)\n",
      "Requirement already satisfied: dill in /home/hoang/miniconda3/envs/llm/lib/python3.9/site-packages (from evaluate) (0.3.8)\n",
      "Requirement already satisfied: pandas in /home/hoang/miniconda3/envs/llm/lib/python3.9/site-packages (from evaluate) (2.2.2)\n",
      "Requirement already satisfied: requests>=2.19.0 in /home/hoang/miniconda3/envs/llm/lib/python3.9/site-packages (from evaluate) (2.32.3)\n",
      "Requirement already satisfied: tqdm>=4.62.1 in /home/hoang/miniconda3/envs/llm/lib/python3.9/site-packages (from evaluate) (4.66.4)\n",
      "Requirement already satisfied: xxhash in /home/hoang/miniconda3/envs/llm/lib/python3.9/site-packages (from evaluate) (3.4.1)\n",
      "Requirement already satisfied: multiprocess in /home/hoang/miniconda3/envs/llm/lib/python3.9/site-packages (from evaluate) (0.70.16)\n",
      "Requirement already satisfied: fsspec>=2021.05.0 in /home/hoang/miniconda3/envs/llm/lib/python3.9/site-packages (from fsspec[http]>=2021.05.0->evaluate) (2024.5.0)\n",
      "Requirement already satisfied: huggingface-hub>=0.7.0 in /home/hoang/miniconda3/envs/llm/lib/python3.9/site-packages (from evaluate) (0.23.4)\n",
      "Requirement already satisfied: packaging in /home/hoang/miniconda3/envs/llm/lib/python3.9/site-packages (from evaluate) (24.1)\n",
      "Requirement already satisfied: filelock in /home/hoang/miniconda3/envs/llm/lib/python3.9/site-packages (from datasets>=2.0.0->evaluate) (3.15.3)\n",
      "Requirement already satisfied: pyarrow>=15.0.0 in /home/hoang/miniconda3/envs/llm/lib/python3.9/site-packages (from datasets>=2.0.0->evaluate) (16.1.0)\n",
      "Requirement already satisfied: pyarrow-hotfix in /home/hoang/miniconda3/envs/llm/lib/python3.9/site-packages (from datasets>=2.0.0->evaluate) (0.6)\n",
      "Requirement already satisfied: aiohttp in /home/hoang/miniconda3/envs/llm/lib/python3.9/site-packages (from datasets>=2.0.0->evaluate) (3.9.5)\n",
      "Requirement already satisfied: pyyaml>=5.1 in /home/hoang/miniconda3/envs/llm/lib/python3.9/site-packages (from datasets>=2.0.0->evaluate) (6.0.1)\n",
      "Requirement already satisfied: typing-extensions>=3.7.4.3 in /home/hoang/miniconda3/envs/llm/lib/python3.9/site-packages (from huggingface-hub>=0.7.0->evaluate) (4.12.2)\n",
      "Requirement already satisfied: charset-normalizer<4,>=2 in /home/hoang/miniconda3/envs/llm/lib/python3.9/site-packages (from requests>=2.19.0->evaluate) (3.3.2)\n",
      "Requirement already satisfied: idna<4,>=2.5 in /home/hoang/miniconda3/envs/llm/lib/python3.9/site-packages (from requests>=2.19.0->evaluate) (3.7)\n",
      "Requirement already satisfied: urllib3<3,>=1.21.1 in /home/hoang/miniconda3/envs/llm/lib/python3.9/site-packages (from requests>=2.19.0->evaluate) (2.2.2)\n",
      "Requirement already satisfied: certifi>=2017.4.17 in /home/hoang/miniconda3/envs/llm/lib/python3.9/site-packages (from requests>=2.19.0->evaluate) (2024.6.2)\n",
      "Requirement already satisfied: python-dateutil>=2.8.2 in /home/hoang/miniconda3/envs/llm/lib/python3.9/site-packages (from pandas->evaluate) (2.9.0.post0)\n",
      "Requirement already satisfied: pytz>=2020.1 in /home/hoang/miniconda3/envs/llm/lib/python3.9/site-packages (from pandas->evaluate) (2024.1)\n",
      "Requirement already satisfied: tzdata>=2022.7 in /home/hoang/miniconda3/envs/llm/lib/python3.9/site-packages (from pandas->evaluate) (2024.1)\n",
      "Requirement already satisfied: aiosignal>=1.1.2 in /home/hoang/miniconda3/envs/llm/lib/python3.9/site-packages (from aiohttp->datasets>=2.0.0->evaluate) (1.3.1)\n",
      "Requirement already satisfied: attrs>=17.3.0 in /home/hoang/miniconda3/envs/llm/lib/python3.9/site-packages (from aiohttp->datasets>=2.0.0->evaluate) (23.2.0)\n",
      "Requirement already satisfied: frozenlist>=1.1.1 in /home/hoang/miniconda3/envs/llm/lib/python3.9/site-packages (from aiohttp->datasets>=2.0.0->evaluate) (1.4.1)\n",
      "Requirement already satisfied: multidict<7.0,>=4.5 in /home/hoang/miniconda3/envs/llm/lib/python3.9/site-packages (from aiohttp->datasets>=2.0.0->evaluate) (6.0.5)\n",
      "Requirement already satisfied: yarl<2.0,>=1.0 in /home/hoang/miniconda3/envs/llm/lib/python3.9/site-packages (from aiohttp->datasets>=2.0.0->evaluate) (1.9.4)\n",
      "Requirement already satisfied: async-timeout<5.0,>=4.0 in /home/hoang/miniconda3/envs/llm/lib/python3.9/site-packages (from aiohttp->datasets>=2.0.0->evaluate) (4.0.3)\n",
      "Requirement already satisfied: six>=1.5 in /home/hoang/miniconda3/envs/llm/lib/python3.9/site-packages (from python-dateutil>=2.8.2->pandas->evaluate) (1.16.0)\n",
      "Downloading evaluate-0.4.2-py3-none-any.whl (84 kB)\n",
      "\u001b[2K   \u001b[38;2;114;156;31m━━━━━━━━━━━━━━━━━━━━━━━━━━━━━━━━━━━━━━━━\u001b[0m \u001b[32m84.1/84.1 kB\u001b[0m \u001b[31m2.1 MB/s\u001b[0m eta \u001b[36m0:00:00\u001b[0m[31m?\u001b[0m eta \u001b[36m-:--:--\u001b[0m\n",
      "\u001b[?25hInstalling collected packages: evaluate\n",
      "Successfully installed evaluate-0.4.2\n"
     ]
    }
   ],
   "source": [
    "!pip install evaluate"
   ]
  },
  {
   "cell_type": "code",
   "execution_count": 5,
   "metadata": {},
   "outputs": [],
   "source": [
    "!pip install -U accelerate --quiet"
   ]
  },
  {
   "cell_type": "code",
   "execution_count": 6,
   "metadata": {
    "application/vnd.databricks.v1+cell": {
     "cellMetadata": {},
     "inputWidgets": {},
     "nuid": "4bbb0ded-0935-409a-a65f-872d645a769c",
     "showTitle": false,
     "title": ""
    }
   },
   "outputs": [],
   "source": [
    "#%run ../Includes/Classroom-Setup"
   ]
  },
  {
   "cell_type": "code",
   "execution_count": 9,
   "metadata": {},
   "outputs": [
    {
     "name": "stdout",
     "output_type": "stream",
     "text": [
      "mkdir: cannot create directory ‘cache’: File exists\n"
     ]
    }
   ],
   "source": [
    "mkdir cache"
   ]
  },
  {
   "cell_type": "markdown",
   "metadata": {
    "application/vnd.databricks.v1+cell": {
     "cellMetadata": {},
     "inputWidgets": {},
     "nuid": "7cd701cd-96a9-4f65-a3f3-ca9509fd4134",
     "showTitle": false,
     "title": ""
    }
   },
   "source": [
    "## How can we evaluate summarization?\n",
    "\n",
    "Suppose you are developing a smartphone news app and need to display automatically generated summaries of breaking news articles.  How can you evaluate whether or not the summaries you are generating are good?\n",
    "\n",
    "![](https://drive.google.com/uc?export=view&id=1V6cMD1LgivCb850JDhva1DO9EWVH8rJ7)"
   ]
  },
  {
   "cell_type": "markdown",
   "metadata": {
    "application/vnd.databricks.v1+cell": {
     "cellMetadata": {},
     "inputWidgets": {},
     "nuid": "0f9c0239-bfd4-45f2-beb6-60d7290e9b0c",
     "showTitle": false,
     "title": ""
    }
   },
   "source": [
    "## Dataset\n",
    "\n",
    "We will use a subset of the `cnn_dailymail` dataset from See et al., 2017, downloadable from the Hugging Face `datasets` hub: https://huggingface.co/datasets/cnn_dailymail\n",
    "\n",
    "This dataset provides news article paired with summaries (in the \"highlights\" column).  Let's load the data and take a look at some examples."
   ]
  },
  {
   "cell_type": "code",
   "execution_count": 10,
   "metadata": {},
   "outputs": [],
   "source": [
    "import os\n",
    "os.environ['http_proxy'] = 'http://localhost:3128'\n",
    "os.environ['https_proxy'] = 'http://localhost:3128'\n",
    "os.environ['HTTP_PROXY'] = 'http://localhost:3128'\n",
    "os.environ['HTTPS_PROXY'] = 'http://localhost:3128'"
   ]
  },
  {
   "cell_type": "code",
   "execution_count": 13,
   "metadata": {
    "application/vnd.databricks.v1+cell": {
     "cellMetadata": {},
     "inputWidgets": {},
     "nuid": "03d71602-c905-4c2a-95ef-b63e98818ab4",
     "showTitle": false,
     "title": ""
    }
   },
   "outputs": [
    {
     "name": "stderr",
     "output_type": "stream",
     "text": [
      "Downloading data: 100%|████████████████████████████████████████████████████████████████████████████████████████████████████████████████████████████████████████████████████| 257M/257M [00:39<00:00, 6.58MB/s]\n",
      "Downloading data: 100%|████████████████████████████████████████████████████████████████████████████████████████████████████████████████████████████████████████████████████| 257M/257M [00:28<00:00, 9.11MB/s]\n",
      "Downloading data: 100%|████████████████████████████████████████████████████████████████████████████████████████████████████████████████████████████████████████████████████| 259M/259M [00:40<00:00, 6.44MB/s]\n",
      "Downloading data: 100%|██████████████████████████████████████████████████████████████████████████████████████████████████████████████████████████████████████████████████| 34.7M/34.7M [00:13<00:00, 2.49MB/s]\n",
      "Downloading data: 100%|██████████████████████████████████████████████████████████████████████████████████████████████████████████████████████████████████████████████████| 30.0M/30.0M [00:04<00:00, 7.10MB/s]\n",
      "Generating train split: 100%|███████████████████████████████████████████████████████████████████████████████████████████████████████████████████████████████| 287113/287113 [00:02<00:00, 99655.17 examples/s]\n",
      "Generating validation split: 100%|███████████████████████████████████████████████████████████████████████████████████████████████████████████████████████████| 13368/13368 [00:00<00:00, 110826.07 examples/s]\n",
      "Generating test split: 100%|█████████████████████████████████████████████████████████████████████████████████████████████████████████████████████████████████| 11490/11490 [00:00<00:00, 106894.79 examples/s]\n",
      "Filter: 100%|██████████████████████████████████████████████████████████████████████████████████████████████████████████████████████████████████████████████| 287113/287113 [00:01<00:00, 217388.65 examples/s]\n"
     ]
    },
    {
     "data": {
      "text/plain": [
       "Dataset({\n",
       "    features: ['article', 'highlights', 'id'],\n",
       "    num_rows: 100\n",
       "})"
      ]
     },
     "execution_count": 13,
     "metadata": {},
     "output_type": "execute_result"
    }
   ],
   "source": [
    "import torch\n",
    "from datasets import load_dataset\n",
    "\n",
    "# full_dataset = load_dataset(\n",
    "#     \"cnn_dailymail\", version=\"3.0.0\", cache_dir=\"../working/cache\"\n",
    "# )  # Note: We specify cache_dir to use pre-cached data.\n",
    "\n",
    "full_dataset = load_dataset(\n",
    "    \"abisee/cnn_dailymail\", \"3.0.0\"\n",
    ")\n",
    "\n",
    "# Use a small sample of the data during this lab, for speed.\n",
    "sample_size = 100\n",
    "sample = (\n",
    "    full_dataset[\"train\"]\n",
    "    .filter(lambda r: \"CNN\" in r[\"article\"][:25])\n",
    "    .shuffle(seed=42)\n",
    "    .select(range(sample_size))\n",
    ")\n",
    "sample"
   ]
  },
  {
   "cell_type": "code",
   "execution_count": null,
   "metadata": {
    "application/vnd.databricks.v1+cell": {
     "cellMetadata": {},
     "inputWidgets": {},
     "nuid": "f6a76e11-bb13-4164-9d07-8a47e5607bd1",
     "showTitle": false,
     "title": ""
    },
    "execution": {
     "iopub.execute_input": "2023-06-23T20:43:29.018900Z",
     "iopub.status.busy": "2023-06-23T20:43:29.017968Z",
     "iopub.status.idle": "2023-06-23T20:43:29.044149Z",
     "shell.execute_reply": "2023-06-23T20:43:29.042801Z",
     "shell.execute_reply.started": "2023-06-23T20:43:29.018852Z"
    }
   },
   "outputs": [],
   "source": [
    "display(sample.to_pandas())"
   ]
  },
  {
   "cell_type": "code",
   "execution_count": null,
   "metadata": {
    "application/vnd.databricks.v1+cell": {
     "cellMetadata": {},
     "inputWidgets": {},
     "nuid": "cc72ceab-ca2e-49c8-8e1f-d0b0f7cb7496",
     "showTitle": false,
     "title": ""
    },
    "execution": {
     "iopub.execute_input": "2023-06-23T20:43:29.046674Z",
     "iopub.status.busy": "2023-06-23T20:43:29.045338Z",
     "iopub.status.idle": "2023-06-23T20:43:29.057804Z",
     "shell.execute_reply": "2023-06-23T20:43:29.056546Z",
     "shell.execute_reply.started": "2023-06-23T20:43:29.046621Z"
    }
   },
   "outputs": [],
   "source": [
    "example_article = sample[\"article\"][0]\n",
    "example_summary = sample[\"highlights\"][0]\n",
    "print(f\"Article:\\n{example_article}\\n\")\n",
    "print(f\"Summary:\\n{example_summary}\")"
   ]
  },
  {
   "cell_type": "markdown",
   "metadata": {
    "application/vnd.databricks.v1+cell": {
     "cellMetadata": {},
     "inputWidgets": {},
     "nuid": "21afc992-e1e1-4867-babc-c952220eec27",
     "showTitle": false,
     "title": ""
    }
   },
   "source": [
    "## Summarization"
   ]
  },
  {
   "cell_type": "code",
   "execution_count": null,
   "metadata": {
    "application/vnd.databricks.v1+cell": {
     "cellMetadata": {},
     "inputWidgets": {},
     "nuid": "b77fd586-2169-459f-94e4-fb9ef8263bd5",
     "showTitle": false,
     "title": ""
    },
    "execution": {
     "iopub.execute_input": "2023-06-23T20:43:29.059686Z",
     "iopub.status.busy": "2023-06-23T20:43:29.059278Z",
     "iopub.status.idle": "2023-06-23T20:43:33.991386Z",
     "shell.execute_reply": "2023-06-23T20:43:33.990076Z",
     "shell.execute_reply.started": "2023-06-23T20:43:29.059640Z"
    }
   },
   "outputs": [],
   "source": [
    "import pandas as pd\n",
    "import torch\n",
    "import gc\n",
    "from transformers import AutoTokenizer, T5ForConditionalGeneration"
   ]
  },
  {
   "cell_type": "code",
   "execution_count": null,
   "metadata": {
    "application/vnd.databricks.v1+cell": {
     "cellMetadata": {},
     "inputWidgets": {},
     "nuid": "e62ec305-6279-4b73-b3d6-dd9cb2330bfb",
     "showTitle": false,
     "title": ""
    },
    "execution": {
     "iopub.execute_input": "2023-06-23T20:43:33.994086Z",
     "iopub.status.busy": "2023-06-23T20:43:33.993566Z",
     "iopub.status.idle": "2023-06-23T20:43:34.008344Z",
     "shell.execute_reply": "2023-06-23T20:43:34.007118Z",
     "shell.execute_reply.started": "2023-06-23T20:43:33.994049Z"
    }
   },
   "outputs": [],
   "source": [
    "def batch_generator(data: list, batch_size: int):\n",
    "    \"\"\"\n",
    "    Creates batches of size `batch_size` from a list.\n",
    "    \"\"\"\n",
    "    s = 0\n",
    "    e = s + batch_size\n",
    "    while s < len(data):\n",
    "        yield data[s:e]\n",
    "        s = e\n",
    "        e = min(s + batch_size, len(data))\n",
    "\n",
    "\n",
    "def summarize_with_t5(\n",
    "    model_checkpoint: str, articles: list, batch_size: int = 8\n",
    ") -> list:\n",
    "    \"\"\"\n",
    "    Compute summaries using a T5 model.\n",
    "    This is similar to a `pipeline` for a T5 model but does tokenization manually.\n",
    "\n",
    "    :param model_checkpoint: Name for a model checkpoint in Hugging Face, such as \"t5-small\" or \"t5-base\"\n",
    "    :param articles: List of strings, where each string represents one article.\n",
    "    :return: List of strings, where each string represents one article's generated summary\n",
    "    \"\"\"\n",
    "    if torch.cuda.is_available():\n",
    "        device = \"cuda:0\"\n",
    "    else:\n",
    "        device = \"cpu\"\n",
    "\n",
    "    model = T5ForConditionalGeneration.from_pretrained(\n",
    "        model_checkpoint, cache_dir=\"../working/cache\"\n",
    "    ).to(device)\n",
    "    tokenizer = AutoTokenizer.from_pretrained(\n",
    "        model_checkpoint, model_max_length=1024, cache_dir=\"../working/cache\"\n",
    "    )\n",
    "\n",
    "    def perform_inference(batch: list) -> list:\n",
    "        inputs = tokenizer(\n",
    "            batch, max_length=1024, return_tensors=\"pt\", padding=True, truncation=True\n",
    "        )\n",
    "\n",
    "        summary_ids = model.generate(\n",
    "            inputs.input_ids.to(device),\n",
    "            attention_mask=inputs.attention_mask.to(device),\n",
    "            num_beams=2,\n",
    "            min_length=0,\n",
    "            max_length=40,\n",
    "        )\n",
    "        return tokenizer.batch_decode(summary_ids, skip_special_tokens=True)\n",
    "\n",
    "    res = []\n",
    "\n",
    "    summary_articles = list(map(lambda article: \"summarize: \" + article, articles))\n",
    "    for batch in batch_generator(summary_articles, batch_size=batch_size):\n",
    "        res += perform_inference(batch)\n",
    "\n",
    "        torch.cuda.empty_cache()\n",
    "        gc.collect()\n",
    "\n",
    "    # clean up\n",
    "    del tokenizer\n",
    "    del model\n",
    "    torch.cuda.empty_cache()\n",
    "    gc.collect()\n",
    "    return res"
   ]
  },
  {
   "cell_type": "code",
   "execution_count": null,
   "metadata": {
    "application/vnd.databricks.v1+cell": {
     "cellMetadata": {},
     "inputWidgets": {},
     "nuid": "f56e2fd2-31d4-4ded-930f-bad2ae7fc8a4",
     "showTitle": false,
     "title": ""
    },
    "execution": {
     "iopub.execute_input": "2023-06-23T20:43:34.010024Z",
     "iopub.status.busy": "2023-06-23T20:43:34.009662Z",
     "iopub.status.idle": "2023-06-23T20:47:35.248432Z",
     "shell.execute_reply": "2023-06-23T20:47:35.246536Z",
     "shell.execute_reply.started": "2023-06-23T20:43:34.009993Z"
    }
   },
   "outputs": [],
   "source": [
    "t5_small_summaries = summarize_with_t5(\"t5-small\", sample[\"article\"])"
   ]
  },
  {
   "cell_type": "code",
   "execution_count": null,
   "metadata": {
    "application/vnd.databricks.v1+cell": {
     "cellMetadata": {},
     "inputWidgets": {},
     "nuid": "ce4b6714-4469-464b-a5d5-157e36166be6",
     "showTitle": false,
     "title": ""
    },
    "execution": {
     "iopub.execute_input": "2023-06-23T20:47:35.251274Z",
     "iopub.status.busy": "2023-06-23T20:47:35.250708Z",
     "iopub.status.idle": "2023-06-23T20:47:35.261574Z",
     "shell.execute_reply": "2023-06-23T20:47:35.259643Z",
     "shell.execute_reply.started": "2023-06-23T20:47:35.251225Z"
    }
   },
   "outputs": [],
   "source": [
    "reference_summaries = sample[\"highlights\"]"
   ]
  },
  {
   "cell_type": "code",
   "execution_count": null,
   "metadata": {
    "application/vnd.databricks.v1+cell": {
     "cellMetadata": {},
     "inputWidgets": {},
     "nuid": "56cd9369-2262-45b5-88a9-0cc2c7117bbf",
     "showTitle": false,
     "title": ""
    },
    "execution": {
     "iopub.execute_input": "2023-06-23T20:47:35.267145Z",
     "iopub.status.busy": "2023-06-23T20:47:35.266646Z",
     "iopub.status.idle": "2023-06-23T20:47:35.289030Z",
     "shell.execute_reply": "2023-06-23T20:47:35.286883Z",
     "shell.execute_reply.started": "2023-06-23T20:47:35.267110Z"
    }
   },
   "outputs": [],
   "source": [
    "display(\n",
    "    pd.DataFrame.from_dict(\n",
    "        {\n",
    "            \"generated\": t5_small_summaries,\n",
    "            \"reference\": reference_summaries,\n",
    "        }\n",
    "    )\n",
    ")"
   ]
  },
  {
   "cell_type": "markdown",
   "metadata": {
    "application/vnd.databricks.v1+cell": {
     "cellMetadata": {},
     "inputWidgets": {},
     "nuid": "4533bfa8-53d5-4076-a287-902a2f31596a",
     "showTitle": false,
     "title": ""
    }
   },
   "source": [
    "You may see some warning messages in the output above.  While pipelines are handy, they provide less control over the tokenizer and model; we will dive deeper later.\n",
    "\n",
    "But first, let's see how our summarization pipeline does!  We'll compute 0/1 accuracy, a classic ML evaluation metric."
   ]
  },
  {
   "cell_type": "code",
   "execution_count": null,
   "metadata": {
    "application/vnd.databricks.v1+cell": {
     "cellMetadata": {},
     "inputWidgets": {},
     "nuid": "65f99f6f-ae97-41cb-b99e-eeaaff623f83",
     "showTitle": false,
     "title": ""
    },
    "execution": {
     "iopub.execute_input": "2023-06-23T20:47:35.291859Z",
     "iopub.status.busy": "2023-06-23T20:47:35.290825Z",
     "iopub.status.idle": "2023-06-23T20:47:35.307676Z",
     "shell.execute_reply": "2023-06-23T20:47:35.306285Z",
     "shell.execute_reply.started": "2023-06-23T20:47:35.291796Z"
    }
   },
   "outputs": [],
   "source": [
    "accuracy = 0.0\n",
    "for i in range(len(reference_summaries)):\n",
    "    generated_summary = t5_small_summaries[i]\n",
    "    if generated_summary == reference_summaries[i]:\n",
    "        accuracy += 1.0\n",
    "accuracy = accuracy / len(reference_summaries)\n",
    "\n",
    "print(f\"Achieved accuracy {accuracy}!\")"
   ]
  },
  {
   "cell_type": "markdown",
   "metadata": {
    "application/vnd.databricks.v1+cell": {
     "cellMetadata": {},
     "inputWidgets": {},
     "nuid": "20bba471-04f6-47a0-9753-cc97ccc6e753",
     "showTitle": false,
     "title": ""
    }
   },
   "source": [
    "Accuracy zero?!?  We can see that the (very generic) metric of 0/1 accuracy is not useful for summarization.  Thinking about this more, small variations in wording may not matter much, and many different summaries may be equally valid.  So how can we evaluate summarization?"
   ]
  },
  {
   "cell_type": "markdown",
   "metadata": {
    "application/vnd.databricks.v1+cell": {
     "cellMetadata": {},
     "inputWidgets": {},
     "nuid": "f1fdc148-cb1b-46e0-a63b-fb8c7574c539",
     "showTitle": false,
     "title": ""
    }
   },
   "source": [
    "## ROUGE\n",
    "\n",
    "Now that we can generate summaries---and we know 0/1 accuracy is useless here---let's look at how we can compute a meaningful metric designed to evaluate summarization: ROUGE.\n",
    "\n",
    "Recall-Oriented Understudy for Gisting Evaluation (ROUGE) is a set of evaluation metrics designed for comparing summaries from Lin et al., 2004.  See https://en.wikipedia.org/wiki/ROUGE_(metric) for more info.  Here, we use the Hugging Face Evaluator wrapper to call into the `rouge_score` package.  This package provides 4 scores:\n",
    "\n",
    "* `rouge1`: ROUGE computed over unigrams (single words or tokens)\n",
    "* `rouge2`: ROUGE computed over bigrams (pairs of consecutive words or tokens)\n",
    "* `rougeL`: ROUGE based on the longest common subsequence shared by the summaries being compared\n",
    "* `rougeLsum`: like `rougeL`, but at \"summary level,\" i.e., ignoring sentence breaks (newlines)"
   ]
  },
  {
   "cell_type": "code",
   "execution_count": null,
   "metadata": {
    "application/vnd.databricks.v1+cell": {
     "cellMetadata": {},
     "inputWidgets": {},
     "nuid": "c4a3d53d-b426-48c0-865a-853b933455ee",
     "showTitle": false,
     "title": ""
    },
    "execution": {
     "iopub.execute_input": "2023-06-23T20:47:35.310214Z",
     "iopub.status.busy": "2023-06-23T20:47:35.309713Z",
     "iopub.status.idle": "2023-06-23T20:47:40.316468Z",
     "shell.execute_reply": "2023-06-23T20:47:40.314440Z",
     "shell.execute_reply.started": "2023-06-23T20:47:35.310178Z"
    }
   },
   "outputs": [],
   "source": [
    "import evaluate\n",
    "import nltk\n",
    "from nltk.tokenize import sent_tokenize\n",
    "\n",
    "nltk.download(\"punkt\")\n",
    "\n",
    "rouge_score = evaluate.load(\"rouge\")"
   ]
  },
  {
   "cell_type": "markdown",
   "metadata": {
    "application/vnd.databricks.v1+cell": {
     "cellMetadata": {},
     "inputWidgets": {},
     "nuid": "95131c42-3997-429f-b5f0-2e52c3a68d7a",
     "showTitle": false,
     "title": ""
    }
   },
   "source": [
    "You can call `rouge_score` evaluator directly, but we provide a convenience function below to handle the expected input format."
   ]
  },
  {
   "cell_type": "code",
   "execution_count": null,
   "metadata": {
    "application/vnd.databricks.v1+cell": {
     "cellMetadata": {},
     "inputWidgets": {},
     "nuid": "8fb6ac60-4055-4725-bc22-2492615c7548",
     "showTitle": false,
     "title": ""
    },
    "execution": {
     "iopub.execute_input": "2023-06-23T20:47:53.489773Z",
     "iopub.status.busy": "2023-06-23T20:47:53.489324Z",
     "iopub.status.idle": "2023-06-23T20:47:53.498559Z",
     "shell.execute_reply": "2023-06-23T20:47:53.497251Z",
     "shell.execute_reply.started": "2023-06-23T20:47:53.489724Z"
    }
   },
   "outputs": [],
   "source": [
    "def compute_rouge_score(generated: list, reference: list) -> dict:\n",
    "    \"\"\"\n",
    "    Compute ROUGE scores on a batch of articles.\n",
    "\n",
    "    This is a convenience function wrapping Hugging Face `rouge_score`,\n",
    "    which expects sentences to be separated by newlines.\n",
    "\n",
    "    :param generated: Summaries (list of strings) produced by the model\n",
    "    :param reference: Ground-truth summaries (list of strings) for comparison\n",
    "    \"\"\"\n",
    "    generated_with_newlines = [\"\\n\".join(sent_tokenize(s.strip())) for s in generated]\n",
    "    reference_with_newlines = [\"\\n\".join(sent_tokenize(s.strip())) for s in reference]\n",
    "    return rouge_score.compute(\n",
    "        predictions=generated_with_newlines,\n",
    "        references=reference_with_newlines,\n",
    "        use_stemmer=True,\n",
    "    )"
   ]
  },
  {
   "cell_type": "code",
   "execution_count": null,
   "metadata": {
    "application/vnd.databricks.v1+cell": {
     "cellMetadata": {},
     "inputWidgets": {},
     "nuid": "3a3022f1-93ad-489a-8aec-e8a48ab84040",
     "showTitle": false,
     "title": ""
    },
    "execution": {
     "iopub.execute_input": "2023-06-23T20:47:55.699394Z",
     "iopub.status.busy": "2023-06-23T20:47:55.698947Z",
     "iopub.status.idle": "2023-06-23T20:47:56.637439Z",
     "shell.execute_reply": "2023-06-23T20:47:56.636110Z",
     "shell.execute_reply.started": "2023-06-23T20:47:55.699352Z"
    }
   },
   "outputs": [],
   "source": [
    "# ROUGE scores for our batch of articles\n",
    "compute_rouge_score(t5_small_summaries, reference_summaries)"
   ]
  },
  {
   "cell_type": "markdown",
   "metadata": {
    "application/vnd.databricks.v1+cell": {
     "cellMetadata": {},
     "inputWidgets": {},
     "nuid": "e314fe3c-ee54-4e78-9733-92ebdba8970b",
     "showTitle": false,
     "title": ""
    }
   },
   "source": [
    "## Understanding ROUGE scores"
   ]
  },
  {
   "cell_type": "code",
   "execution_count": null,
   "metadata": {
    "application/vnd.databricks.v1+cell": {
     "cellMetadata": {},
     "inputWidgets": {},
     "nuid": "1a4724a8-e790-4f8f-83a1-ef1dc3d6a97d",
     "showTitle": false,
     "title": ""
    },
    "execution": {
     "iopub.execute_input": "2023-06-23T20:47:58.777766Z",
     "iopub.status.busy": "2023-06-23T20:47:58.777328Z",
     "iopub.status.idle": "2023-06-23T20:47:59.951843Z",
     "shell.execute_reply": "2023-06-23T20:47:59.950847Z",
     "shell.execute_reply.started": "2023-06-23T20:47:58.777719Z"
    }
   },
   "outputs": [],
   "source": [
    "# Sanity check: What if our predictions match the references exactly?\n",
    "compute_rouge_score(reference_summaries, reference_summaries)"
   ]
  },
  {
   "cell_type": "code",
   "execution_count": null,
   "metadata": {
    "application/vnd.databricks.v1+cell": {
     "cellMetadata": {},
     "inputWidgets": {},
     "nuid": "e5c19bd7-ed84-41b4-ba9d-c693cb6a2d70",
     "showTitle": false,
     "title": ""
    },
    "execution": {
     "iopub.execute_input": "2023-06-23T20:48:01.603250Z",
     "iopub.status.busy": "2023-06-23T20:48:01.602382Z",
     "iopub.status.idle": "2023-06-23T20:48:02.199319Z",
     "shell.execute_reply": "2023-06-23T20:48:02.198212Z",
     "shell.execute_reply.started": "2023-06-23T20:48:01.603211Z"
    }
   },
   "outputs": [],
   "source": [
    "# And what if we fail to predict anything?\n",
    "compute_rouge_score(\n",
    "    generated=[\"\" for _ in range(len(reference_summaries))],\n",
    "    reference=reference_summaries,\n",
    ")"
   ]
  },
  {
   "cell_type": "markdown",
   "metadata": {
    "application/vnd.databricks.v1+cell": {
     "cellMetadata": {},
     "inputWidgets": {},
     "nuid": "03942a4c-2e24-4c77-80e8-be664b39b61a",
     "showTitle": false,
     "title": ""
    }
   },
   "source": [
    "Stemming predictions and references can help to ignore minor differences.\n",
    "\n",
    "We will use `rouge_score.compute()` directly for these hand-constructed examples."
   ]
  },
  {
   "cell_type": "code",
   "execution_count": null,
   "metadata": {
    "application/vnd.databricks.v1+cell": {
     "cellMetadata": {},
     "inputWidgets": {},
     "nuid": "afcf0182-adfc-4471-92b5-eb8fa49cb778",
     "showTitle": false,
     "title": ""
    },
    "execution": {
     "iopub.execute_input": "2023-06-23T20:48:04.148168Z",
     "iopub.status.busy": "2023-06-23T20:48:04.146933Z",
     "iopub.status.idle": "2023-06-23T20:48:04.376061Z",
     "shell.execute_reply": "2023-06-23T20:48:04.374855Z",
     "shell.execute_reply.started": "2023-06-23T20:48:04.148127Z"
    }
   },
   "outputs": [],
   "source": [
    "rouge_score.compute(\n",
    "    predictions=[\"Large language models beat world record\"],\n",
    "    references=[\"Large language models beating world records\"],\n",
    "    use_stemmer=False,\n",
    ")"
   ]
  },
  {
   "cell_type": "code",
   "execution_count": null,
   "metadata": {
    "application/vnd.databricks.v1+cell": {
     "cellMetadata": {},
     "inputWidgets": {},
     "nuid": "d3a06b60-9e5f-44d3-bbfb-c6050d5a8bce",
     "showTitle": false,
     "title": ""
    },
    "execution": {
     "iopub.execute_input": "2023-06-23T20:48:08.955595Z",
     "iopub.status.busy": "2023-06-23T20:48:08.954999Z",
     "iopub.status.idle": "2023-06-23T20:48:09.203635Z",
     "shell.execute_reply": "2023-06-23T20:48:09.202177Z",
     "shell.execute_reply.started": "2023-06-23T20:48:08.955532Z"
    }
   },
   "outputs": [],
   "source": [
    "rouge_score.compute(\n",
    "    predictions=[\"Large language models beat world record\"],\n",
    "    references=[\"Large language models beating world records\"],\n",
    "    use_stemmer=True,\n",
    ")"
   ]
  },
  {
   "cell_type": "markdown",
   "metadata": {
    "application/vnd.databricks.v1+cell": {
     "cellMetadata": {},
     "inputWidgets": {},
     "nuid": "39532a43-d7b5-49b5-b4c2-b44ca38206f7",
     "showTitle": false,
     "title": ""
    }
   },
   "source": [
    "Let's look at how the ROUGE score behaves in various situations."
   ]
  },
  {
   "cell_type": "code",
   "execution_count": null,
   "metadata": {
    "application/vnd.databricks.v1+cell": {
     "cellMetadata": {},
     "inputWidgets": {},
     "nuid": "398dd9ca-cb48-4314-bf97-f28264787b5c",
     "showTitle": false,
     "title": ""
    },
    "execution": {
     "iopub.execute_input": "2023-06-23T20:48:10.329612Z",
     "iopub.status.busy": "2023-06-23T20:48:10.329154Z",
     "iopub.status.idle": "2023-06-23T20:48:10.571090Z",
     "shell.execute_reply": "2023-06-23T20:48:10.569435Z",
     "shell.execute_reply.started": "2023-06-23T20:48:10.329579Z"
    }
   },
   "outputs": [],
   "source": [
    "# What if we predict exactly 1 word correctly?\n",
    "rouge_score.compute(\n",
    "    predictions=[\"Large language models beat world record\"],\n",
    "    references=[\"Large\"],\n",
    "    use_stemmer=True,\n",
    ")"
   ]
  },
  {
   "cell_type": "code",
   "execution_count": null,
   "metadata": {
    "application/vnd.databricks.v1+cell": {
     "cellMetadata": {},
     "inputWidgets": {},
     "nuid": "36dfd537-55ab-44d4-ada8-b62c5d34a038",
     "showTitle": false,
     "title": ""
    },
    "execution": {
     "iopub.execute_input": "2023-06-23T20:48:19.966068Z",
     "iopub.status.busy": "2023-06-23T20:48:19.965590Z",
     "iopub.status.idle": "2023-06-23T20:48:20.207785Z",
     "shell.execute_reply": "2023-06-23T20:48:20.206526Z",
     "shell.execute_reply.started": "2023-06-23T20:48:19.966033Z"
    }
   },
   "outputs": [],
   "source": [
    "# The ROUGE score is symmetric with respect to predictions and references.\n",
    "rouge_score.compute(\n",
    "    predictions=[\"Large\"],\n",
    "    references=[\"Large language models beat world record\"],\n",
    "    use_stemmer=True,\n",
    ")"
   ]
  },
  {
   "cell_type": "code",
   "execution_count": null,
   "metadata": {
    "application/vnd.databricks.v1+cell": {
     "cellMetadata": {},
     "inputWidgets": {},
     "nuid": "869bce23-e548-472b-a215-51a73a6310a9",
     "showTitle": false,
     "title": ""
    },
    "execution": {
     "iopub.execute_input": "2023-06-23T20:48:21.384256Z",
     "iopub.status.busy": "2023-06-23T20:48:21.383824Z",
     "iopub.status.idle": "2023-06-23T20:48:21.614017Z",
     "shell.execute_reply": "2023-06-23T20:48:21.612593Z",
     "shell.execute_reply.started": "2023-06-23T20:48:21.384222Z"
    }
   },
   "outputs": [],
   "source": [
    "# What about 2 words?  Note how 'rouge1' and 'rouge2' compare with the case when we predict exactly 1 word correctly.\n",
    "rouge_score.compute(\n",
    "    predictions=[\"Large language\"],\n",
    "    references=[\"Large language models beat world record\"],\n",
    "    use_stemmer=True,\n",
    ")"
   ]
  },
  {
   "cell_type": "code",
   "execution_count": null,
   "metadata": {
    "application/vnd.databricks.v1+cell": {
     "cellMetadata": {},
     "inputWidgets": {},
     "nuid": "5dcb32ef-3f09-46e0-b0a7-65b42cfc06f4",
     "showTitle": false,
     "title": ""
    },
    "execution": {
     "iopub.execute_input": "2023-06-23T20:48:29.674771Z",
     "iopub.status.busy": "2023-06-23T20:48:29.674334Z",
     "iopub.status.idle": "2023-06-23T20:48:29.942313Z",
     "shell.execute_reply": "2023-06-23T20:48:29.941098Z",
     "shell.execute_reply.started": "2023-06-23T20:48:29.674725Z"
    }
   },
   "outputs": [],
   "source": [
    "# Note how rouge1 differs from the rougeN (N>1) scores when we predict word subsequences correctly.\n",
    "rouge_score.compute(\n",
    "    predictions=[\"Models beat large language world record\"],\n",
    "    references=[\"Large language models beat world record\"],\n",
    "    use_stemmer=True,\n",
    ")"
   ]
  },
  {
   "cell_type": "markdown",
   "metadata": {
    "application/vnd.databricks.v1+cell": {
     "cellMetadata": {},
     "inputWidgets": {},
     "nuid": "0aea6a01-6767-49c5-a3d6-8d93ec2a5baf",
     "showTitle": false,
     "title": ""
    }
   },
   "source": [
    "d ## Compare small and large models\n",
    "\n",
    " We've been working with the `t5-small` model so far.  Let's compare several models with different architectures in terms of their ROUGE scores and some example generated summaries."
   ]
  },
  {
   "cell_type": "code",
   "execution_count": null,
   "metadata": {
    "application/vnd.databricks.v1+cell": {
     "cellMetadata": {},
     "inputWidgets": {},
     "nuid": "bceb1170-6366-455b-abc9-941807d06804",
     "showTitle": false,
     "title": ""
    },
    "execution": {
     "iopub.execute_input": "2023-06-23T20:48:33.037555Z",
     "iopub.status.busy": "2023-06-23T20:48:33.037126Z",
     "iopub.status.idle": "2023-06-23T20:48:33.046123Z",
     "shell.execute_reply": "2023-06-23T20:48:33.044611Z",
     "shell.execute_reply.started": "2023-06-23T20:48:33.037525Z"
    }
   },
   "outputs": [],
   "source": [
    "def compute_rouge_per_row(\n",
    "    generated_summaries: list, reference_summaries: list\n",
    ") -> pd.DataFrame:\n",
    "    \"\"\"\n",
    "    Generates a dataframe to compare rogue score metrics.\n",
    "    \"\"\"\n",
    "    generated_with_newlines = [\n",
    "        \"\\n\".join(sent_tokenize(s.strip())) for s in generated_summaries\n",
    "    ]\n",
    "    reference_with_newlines = [\n",
    "        \"\\n\".join(sent_tokenize(s.strip())) for s in reference_summaries\n",
    "    ]\n",
    "    scores = rouge_score.compute(\n",
    "        predictions=generated_with_newlines,\n",
    "        references=reference_with_newlines,\n",
    "        use_stemmer=True,\n",
    "        use_aggregator=False,\n",
    "    )\n",
    "    scores[\"generated\"] = generated_summaries\n",
    "    scores[\"reference\"] = reference_summaries\n",
    "    return pd.DataFrame.from_dict(scores)"
   ]
  },
  {
   "cell_type": "markdown",
   "metadata": {
    "application/vnd.databricks.v1+cell": {
     "cellMetadata": {},
     "inputWidgets": {},
     "nuid": "8f70c044-e180-4253-ba1b-4ad3ac86b959",
     "showTitle": false,
     "title": ""
    }
   },
   "source": [
    "### T5-small\n",
    "\n",
    "The [T5](https://huggingface.co/docs/transformers/model_doc/t5) [[paper]](https://arxiv.org/pdf/1910.10683.pdf) family of models are text-to-text transformers that have been trained on a multi-task mixture of unsupervised and supervised tasks. They are well suited for task such as summarization, translation, text classification, question answering, and more.\n",
    "\n",
    "The t5-small version of the T5 models has 60 million parameters."
   ]
  },
  {
   "cell_type": "code",
   "execution_count": null,
   "metadata": {
    "application/vnd.databricks.v1+cell": {
     "cellMetadata": {},
     "inputWidgets": {},
     "nuid": "1b66dfcd-4643-4be3-bdb1-15c4c76a040e",
     "showTitle": false,
     "title": ""
    },
    "execution": {
     "iopub.execute_input": "2023-06-23T20:48:38.659268Z",
     "iopub.status.busy": "2023-06-23T20:48:38.658218Z",
     "iopub.status.idle": "2023-06-23T20:48:39.541492Z",
     "shell.execute_reply": "2023-06-23T20:48:39.540404Z",
     "shell.execute_reply.started": "2023-06-23T20:48:38.659224Z"
    }
   },
   "outputs": [],
   "source": [
    "# We computed t5_small_summaries above already.\n",
    "compute_rouge_score(t5_small_summaries, reference_summaries)"
   ]
  },
  {
   "cell_type": "code",
   "execution_count": null,
   "metadata": {
    "application/vnd.databricks.v1+cell": {
     "cellMetadata": {},
     "inputWidgets": {},
     "nuid": "4d82d0a7-9fe8-4487-8b9a-4cf5e48755b3",
     "showTitle": false,
     "title": ""
    },
    "execution": {
     "iopub.execute_input": "2023-06-23T20:48:40.353857Z",
     "iopub.status.busy": "2023-06-23T20:48:40.353061Z",
     "iopub.status.idle": "2023-06-23T20:48:41.012907Z",
     "shell.execute_reply": "2023-06-23T20:48:41.011579Z",
     "shell.execute_reply.started": "2023-06-23T20:48:40.353815Z"
    }
   },
   "outputs": [],
   "source": [
    "t5_small_results = compute_rouge_per_row(\n",
    "    generated_summaries=t5_small_summaries, reference_summaries=reference_summaries\n",
    ")\n",
    "display(t5_small_results)"
   ]
  },
  {
   "cell_type": "markdown",
   "metadata": {
    "application/vnd.databricks.v1+cell": {
     "cellMetadata": {},
     "inputWidgets": {},
     "nuid": "933704f8-c908-49a8-98cd-5ec1b7cd113e",
     "showTitle": false,
     "title": ""
    }
   },
   "source": [
    "### T5-base\n",
    "\n",
    "The [T5-base](https://huggingface.co/t5-base) model has 220 million parameters."
   ]
  },
  {
   "cell_type": "code",
   "execution_count": null,
   "metadata": {
    "application/vnd.databricks.v1+cell": {
     "cellMetadata": {},
     "inputWidgets": {},
     "nuid": "34baca24-7ebb-4821-901d-065112670acc",
     "showTitle": false,
     "title": ""
    },
    "execution": {
     "iopub.execute_input": "2023-06-23T20:48:47.514811Z",
     "iopub.status.busy": "2023-06-23T20:48:47.514200Z",
     "iopub.status.idle": "2023-06-23T21:01:48.378956Z",
     "shell.execute_reply": "2023-06-23T21:01:48.377271Z",
     "shell.execute_reply.started": "2023-06-23T20:48:47.514770Z"
    }
   },
   "outputs": [],
   "source": [
    "t5_base_summaries = summarize_with_t5(\n",
    "    model_checkpoint=\"t5-base\", articles=sample[\"article\"]\n",
    ")\n",
    "compute_rouge_score(t5_base_summaries, reference_summaries)"
   ]
  },
  {
   "cell_type": "code",
   "execution_count": null,
   "metadata": {
    "application/vnd.databricks.v1+cell": {
     "cellMetadata": {},
     "inputWidgets": {},
     "nuid": "c88cfcc5-c9d9-48cc-b393-37f2ff17a29e",
     "showTitle": false,
     "title": ""
    },
    "execution": {
     "iopub.execute_input": "2023-06-23T21:01:48.381980Z",
     "iopub.status.busy": "2023-06-23T21:01:48.381507Z",
     "iopub.status.idle": "2023-06-23T21:01:49.037466Z",
     "shell.execute_reply": "2023-06-23T21:01:49.036145Z",
     "shell.execute_reply.started": "2023-06-23T21:01:48.381941Z"
    }
   },
   "outputs": [],
   "source": [
    "t5_base_results = compute_rouge_per_row(\n",
    "    generated_summaries=t5_base_summaries, reference_summaries=reference_summaries\n",
    ")\n",
    "display(t5_base_results)"
   ]
  },
  {
   "cell_type": "markdown",
   "metadata": {
    "application/vnd.databricks.v1+cell": {
     "cellMetadata": {},
     "inputWidgets": {},
     "nuid": "b4f441b9-b798-4ba8-82bc-0b862063fed5",
     "showTitle": false,
     "title": ""
    }
   },
   "source": [
    "### GPT-2\n",
    "\n",
    "The [GPT-2](https://huggingface.co/gpt2) model is a generative text model that was trained in a self-supervised fashion. Its strengths are in using a 'completing the sentence' for a given prompt.  It has 124 million parameters."
   ]
  },
  {
   "cell_type": "code",
   "execution_count": null,
   "metadata": {
    "application/vnd.databricks.v1+cell": {
     "cellMetadata": {},
     "inputWidgets": {},
     "nuid": "2e2cf4ac-3325-436c-938e-f3e633537c27",
     "showTitle": false,
     "title": ""
    },
    "execution": {
     "iopub.execute_input": "2023-06-23T21:02:42.993480Z",
     "iopub.status.busy": "2023-06-23T21:02:42.993010Z",
     "iopub.status.idle": "2023-06-23T21:02:43.009048Z",
     "shell.execute_reply": "2023-06-23T21:02:43.007842Z",
     "shell.execute_reply.started": "2023-06-23T21:02:42.993445Z"
    }
   },
   "outputs": [],
   "source": [
    "from transformers import GPT2LMHeadModel, GPT2Tokenizer\n",
    "\n",
    "\n",
    "def summarize_with_gpt2(\n",
    "    model_checkpoint: str, articles: list, batch_size: int = 8\n",
    ") -> list:\n",
    "    \"\"\"\n",
    "    Convenience function for summarization with GPT2 to handle these complications:\n",
    "    - Append \"TL;DR\" to the end of the input to get GPT2 to generate a summary.\n",
    "    https://huggingface.co/course/chapter7/5?fw=pt\n",
    "    - Truncate input to handle long articles.\n",
    "    - GPT2 uses a max token length of 1024.  We use a shorter 512 limit here.\n",
    "\n",
    "    :param model_checkpoint: reference to checkpointed model\n",
    "    :param articles: list of strings\n",
    "    :return: generated summaries, with the input and \"TL;DR\" removed\n",
    "    \"\"\"\n",
    "    if torch.cuda.is_available():\n",
    "        device = \"cuda:0\"\n",
    "    else:\n",
    "        device = \"cpu\"\n",
    "\n",
    "    tokenizer = GPT2Tokenizer.from_pretrained(\n",
    "        model_checkpoint, padding_side=\"left\", cache_dir=\"../working/cache\"\n",
    "    )\n",
    "    tokenizer.add_special_tokens({\"pad_token\": tokenizer.eos_token})\n",
    "    model = GPT2LMHeadModel.from_pretrained(\n",
    "        model_checkpoint,\n",
    "        pad_token_id=tokenizer.eos_token_id,\n",
    "        cache_dir=\"../working/cache\",\n",
    "    ).to(device)\n",
    "\n",
    "    def perform_inference(batch: list) -> list:\n",
    "        tmp_inputs = tokenizer(\n",
    "            batch, max_length=500, return_tensors=\"pt\", padding=True, truncation=True\n",
    "        )\n",
    "        tmp_inputs_decoded = tokenizer.batch_decode(\n",
    "            tmp_inputs.input_ids, skip_special_tokens=True\n",
    "        )\n",
    "        inputs = tokenizer(\n",
    "            [article + \" TL;DR:\" for article in tmp_inputs_decoded],\n",
    "            max_length=512,\n",
    "            return_tensors=\"pt\",\n",
    "            padding=True,\n",
    "            truncation=True,\n",
    "        )\n",
    "        summary_ids = model.generate(\n",
    "            inputs.input_ids.to(device),\n",
    "            attention_mask=inputs.attention_mask.to(device),\n",
    "            num_beams=2,\n",
    "            min_length=0,\n",
    "            max_length=512 + 32,\n",
    "        )\n",
    "        return tokenizer.batch_decode(summary_ids, skip_special_tokens=True)\n",
    "\n",
    "    decoded_summaries = []\n",
    "    for batch in batch_generator(articles, batch_size=batch_size):\n",
    "        decoded_summaries += perform_inference(batch)\n",
    "\n",
    "        # batch clean up\n",
    "        torch.cuda.empty_cache()\n",
    "        gc.collect()\n",
    "\n",
    "    # post-process decoded summaries\n",
    "    summaries = [\n",
    "        summary[summary.find(\"TL;DR:\") + len(\"TL;DR: \") :]\n",
    "        for summary in decoded_summaries\n",
    "    ]\n",
    "\n",
    "    # cleanup\n",
    "    del tokenizer\n",
    "    del model\n",
    "    torch.cuda.empty_cache()\n",
    "    gc.collect()\n",
    "\n",
    "    return summaries"
   ]
  },
  {
   "cell_type": "code",
   "execution_count": null,
   "metadata": {
    "application/vnd.databricks.v1+cell": {
     "cellMetadata": {},
     "inputWidgets": {},
     "nuid": "519c3b28-ed51-4a38-8d6e-e8e362957808",
     "showTitle": false,
     "title": ""
    },
    "execution": {
     "iopub.execute_input": "2023-06-23T21:02:46.088380Z",
     "iopub.status.busy": "2023-06-23T21:02:46.087935Z",
     "iopub.status.idle": "2023-06-23T21:11:54.011414Z",
     "shell.execute_reply": "2023-06-23T21:11:54.010064Z",
     "shell.execute_reply.started": "2023-06-23T21:02:46.088348Z"
    }
   },
   "outputs": [],
   "source": [
    "gpt2_summaries = summarize_with_gpt2(\n",
    "    model_checkpoint=\"gpt2\", articles=sample[\"article\"]\n",
    ")\n",
    "compute_rouge_score(gpt2_summaries, reference_summaries)"
   ]
  },
  {
   "cell_type": "code",
   "execution_count": null,
   "metadata": {
    "application/vnd.databricks.v1+cell": {
     "cellMetadata": {},
     "inputWidgets": {},
     "nuid": "9a93533b-433f-4c84-9294-8c760b82388d",
     "showTitle": false,
     "title": ""
    },
    "execution": {
     "iopub.execute_input": "2023-06-23T21:11:54.014863Z",
     "iopub.status.busy": "2023-06-23T21:11:54.014335Z",
     "iopub.status.idle": "2023-06-23T21:11:54.685648Z",
     "shell.execute_reply": "2023-06-23T21:11:54.684349Z",
     "shell.execute_reply.started": "2023-06-23T21:11:54.014815Z"
    }
   },
   "outputs": [],
   "source": [
    "gpt2_results = compute_rouge_per_row(\n",
    "    generated_summaries=gpt2_summaries, reference_summaries=reference_summaries\n",
    ")\n",
    "display(gpt2_results)"
   ]
  },
  {
   "cell_type": "markdown",
   "metadata": {
    "application/vnd.databricks.v1+cell": {
     "cellMetadata": {},
     "inputWidgets": {},
     "nuid": "08fe4953-1f7f-4f4b-b6b5-3cac3378b1c3",
     "showTitle": false,
     "title": ""
    }
   },
   "source": [
    "### Comparing all models\n",
    "\n",
    "We use a couple of helper functions to compare the above models, first by their evaluation metrics (quantitative) and second by their generated summaries (qualitative)."
   ]
  },
  {
   "cell_type": "code",
   "execution_count": null,
   "metadata": {
    "application/vnd.databricks.v1+cell": {
     "cellMetadata": {},
     "inputWidgets": {},
     "nuid": "078286b3-e81c-4c59-a55d-67537c6f1072",
     "showTitle": false,
     "title": ""
    },
    "execution": {
     "iopub.execute_input": "2023-06-23T21:11:54.687656Z",
     "iopub.status.busy": "2023-06-23T21:11:54.687291Z",
     "iopub.status.idle": "2023-06-23T21:11:54.696655Z",
     "shell.execute_reply": "2023-06-23T21:11:54.695239Z",
     "shell.execute_reply.started": "2023-06-23T21:11:54.687625Z"
    }
   },
   "outputs": [],
   "source": [
    "def compare_models(models_results: dict) -> pd.DataFrame:\n",
    "    \"\"\"\n",
    "    :param models_results: dict of \"model name\" string mapped to pd.DataFrame of results computed by `compute_rouge_per_row`\n",
    "    :return: pd.DataFrame with 1 row per model, with columns: model, rouge1, rouge2, rougeL, rougeLsum\n",
    "    where metrics are averages over input results for each model\n",
    "    \"\"\"\n",
    "    agg_results = []\n",
    "    for r in models_results:\n",
    "        model_results = models_results[r].drop(\n",
    "            labels=[\"generated\", \"reference\"], axis=1\n",
    "        )\n",
    "        agg_metrics = [r]\n",
    "        agg_metrics[1:] = model_results.mean(axis=0)\n",
    "        agg_results.append(agg_metrics)\n",
    "    return pd.DataFrame(\n",
    "        agg_results, columns=[\"model\", \"rouge1\", \"rouge2\", \"rougeL\", \"rougeLsum\"]\n",
    "    )"
   ]
  },
  {
   "cell_type": "code",
   "execution_count": null,
   "metadata": {
    "application/vnd.databricks.v1+cell": {
     "cellMetadata": {},
     "inputWidgets": {},
     "nuid": "1d6a97e5-9f49-4c04-bc57-d015602ee16f",
     "showTitle": false,
     "title": ""
    },
    "execution": {
     "iopub.execute_input": "2023-06-23T21:11:54.699716Z",
     "iopub.status.busy": "2023-06-23T21:11:54.699270Z",
     "iopub.status.idle": "2023-06-23T21:11:54.737469Z",
     "shell.execute_reply": "2023-06-23T21:11:54.736176Z",
     "shell.execute_reply.started": "2023-06-23T21:11:54.699680Z"
    }
   },
   "outputs": [],
   "source": [
    "display(\n",
    "    compare_models(\n",
    "        {\n",
    "            \"t5-small\": t5_small_results,\n",
    "            \"t5-base\": t5_base_results,\n",
    "            \"gpt2\": gpt2_results,\n",
    "        }\n",
    "    )\n",
    ")"
   ]
  },
  {
   "cell_type": "code",
   "execution_count": null,
   "metadata": {
    "application/vnd.databricks.v1+cell": {
     "cellMetadata": {},
     "inputWidgets": {},
     "nuid": "7a1b7ad1-64e4-4091-b9b9-95e92e726ed2",
     "showTitle": false,
     "title": ""
    },
    "execution": {
     "iopub.execute_input": "2023-06-23T21:11:54.740411Z",
     "iopub.status.busy": "2023-06-23T21:11:54.739482Z",
     "iopub.status.idle": "2023-06-23T21:11:54.756144Z",
     "shell.execute_reply": "2023-06-23T21:11:54.754734Z",
     "shell.execute_reply.started": "2023-06-23T21:11:54.740369Z"
    }
   },
   "outputs": [],
   "source": [
    "def compare_models_summaries(models_summaries: dict) -> pd.DataFrame:\n",
    "    \"\"\"\n",
    "    Aggregates results from `models_summaries` and returns a dataframe.\n",
    "    \"\"\"\n",
    "    comparison_df = None\n",
    "    for model_name in models_summaries:\n",
    "        summaries_df = models_summaries[model_name]\n",
    "        if comparison_df is None:\n",
    "            comparison_df = summaries_df[[\"generated\"]].rename(\n",
    "                {\"generated\": model_name}, axis=1\n",
    "            )\n",
    "        else:\n",
    "            comparison_df = comparison_df.join(\n",
    "                summaries_df[[\"generated\"]].rename({\"generated\": model_name}, axis=1)\n",
    "            )\n",
    "    return comparison_df"
   ]
  },
  {
   "cell_type": "code",
   "execution_count": null,
   "metadata": {
    "application/vnd.databricks.v1+cell": {
     "cellMetadata": {},
     "inputWidgets": {},
     "nuid": "d93f18a3-adcb-4644-b043-85698ce6ecef",
     "showTitle": false,
     "title": ""
    },
    "execution": {
     "iopub.execute_input": "2023-06-23T21:11:54.759120Z",
     "iopub.status.busy": "2023-06-23T21:11:54.758612Z",
     "iopub.status.idle": "2023-06-23T21:11:54.804539Z",
     "shell.execute_reply": "2023-06-23T21:11:54.803008Z",
     "shell.execute_reply.started": "2023-06-23T21:11:54.759083Z"
    }
   },
   "outputs": [],
   "source": [
    "# In the output table below, scroll to the right to see all models.\n",
    "display(\n",
    "    compare_models_summaries(\n",
    "        {\n",
    "            \"t5_small\": t5_small_results,\n",
    "            \"t5_base\": t5_base_results,\n",
    "            \"gpt2\": gpt2_results,\n",
    "        }\n",
    "    )\n",
    ")"
   ]
  },
  {
   "cell_type": "markdown",
   "metadata": {
    "application/vnd.databricks.v1+cell": {
     "cellMetadata": {},
     "inputWidgets": {},
     "nuid": "4c6e6488-1081-47ff-9c8b-7c832cc0b4d5",
     "showTitle": false,
     "title": ""
    }
   },
   "source": [
    "&copy; 2023 Databricks, Inc. All rights reserved.<br/>\n",
    "Apache, Apache Spark, Spark and the Spark logo are trademarks of the <a href=\"https://www.apache.org/\">Apache Software Foundation</a>.<br/>\n",
    "<br/>\n",
    "<a href=\"https://databricks.com/privacy-policy\">Privacy Policy</a> | <a href=\"https://databricks.com/terms-of-use\">Terms of Use</a> | <a href=\"https://help.databricks.com/\">Support</a>"
   ]
  }
 ],
 "metadata": {
  "kernelspec": {
   "display_name": "Python 3 (ipykernel)",
   "language": "python",
   "name": "python3"
  },
  "language_info": {
   "codemirror_mode": {
    "name": "ipython",
    "version": 3
   },
   "file_extension": ".py",
   "mimetype": "text/x-python",
   "name": "python",
   "nbconvert_exporter": "python",
   "pygments_lexer": "ipython3",
   "version": "3.9.19"
  }
 },
 "nbformat": 4,
 "nbformat_minor": 4
}
